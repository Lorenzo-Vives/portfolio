{
 "cells": [
  {
   "cell_type": "markdown",
   "metadata": {},
   "source": [
    "\n",
    "## NBA project\n",
    "\n",
    "Here you will find a little project about data analysis. Particularly, this project contains data manipulation, data visualization, OLS, Logit and MEM (Mixed Effects Models). I´m using an `nba` database which contains 5313 players from 1947-2025. You can find more details about this dataset [here](https://www.kaggle.com/datasets/flynn28/v2-nba-player-database/data).\n",
    "\n",
    "I will be working with this variables:\n",
    "\n",
    "`Name`: Players name\n",
    "\n",
    "`Position`: Players position(s)\n",
    "\n",
    "`Height`: Height of player (inches)\n",
    "\n",
    "`Weight`: Weight of player (lbs)\n",
    "\n",
    "`School`: School(s) player attended\n",
    "\n",
    "`Active`: If player is currently playing (True or False)\n",
    "\n",
    "`G`: amount of games played by player\n",
    "\n",
    "`PTS`: average points scored by player per game\n",
    "\n",
    "`TRB`: average rebounds by player per game\n",
    "\n",
    "`AST`: average assists per game\n",
    "\n",
    "## Research exercise\n",
    "\n",
    "For this project, I will be analyzing the relationship between being a Center (here I will include those who can play two positions, for example Forward-Center or Center-Forward ) and scoring performance. Also, some predictors will be included, such as Games played, Height, Weight, average total asists per game (AST), average total rebounds per game (TRB).\n",
    "\n",
    "## Data and libraries\n",
    "\n",
    "So, let's get into the data! We will be working with the following libraries. Then we load our NBA data."
   ]
  },
  {
   "cell_type": "code",
   "execution_count": 1,
   "metadata": {},
   "outputs": [
    {
     "name": "stderr",
     "output_type": "stream",
     "text": [
      "\n",
      "Adjuntando el paquete: 'dplyr'\n",
      "\n",
      "\n",
      "The following objects are masked from 'package:stats':\n",
      "\n",
      "    filter, lag\n",
      "\n",
      "\n",
      "The following objects are masked from 'package:base':\n",
      "\n",
      "    intersect, setdiff, setequal, union\n",
      "\n",
      "\n",
      "Cargando paquete requerido: Matrix\n",
      "\n",
      "|-------------------------------------|\n",
      "| misty 0.7.2 (2025-05-20)            |\n",
      "| Miscellaneous Functions T. Yanagida |\n",
      "|-------------------------------------|\n",
      "\n",
      "Version:  1.39.4\n",
      "Date:     2024-07-23\n",
      "Author:   Philip Leifeld (University of Manchester)\n",
      "\n",
      "Consider submitting praise using the praise or praise_interactive functions.\n",
      "Please cite the JSS article in your publications -- see citation(\"texreg\").\n",
      "\n",
      "\n",
      "Adjuntando el paquete: 'tidyr'\n",
      "\n",
      "\n",
      "The following object is masked from 'package:texreg':\n",
      "\n",
      "    extract\n",
      "\n",
      "\n",
      "The following objects are masked from 'package:Matrix':\n",
      "\n",
      "    expand, pack, unpack\n",
      "\n",
      "\n",
      "\n",
      "Adjuntando el paquete: 'gridExtra'\n",
      "\n",
      "\n",
      "The following object is masked from 'package:dplyr':\n",
      "\n",
      "    combine\n",
      "\n",
      "\n"
     ]
    },
    {
     "data": {
      "text/html": [
       "<table class=\"dataframe\">\n",
       "<caption>A data.frame: 10 × 20</caption>\n",
       "<thead>\n",
       "\t<tr><th></th><th scope=col>Name</th><th scope=col>Debut</th><th scope=col>Final</th><th scope=col>Position</th><th scope=col>Height</th><th scope=col>Weight</th><th scope=col>Birthday</th><th scope=col>School</th><th scope=col>HOF</th><th scope=col>Active</th><th scope=col>G</th><th scope=col>PTS</th><th scope=col>TRB</th><th scope=col>AST</th><th scope=col>FG.</th><th scope=col>FG3.</th><th scope=col>FT.</th><th scope=col>eFG.</th><th scope=col>PER</th><th scope=col>WS</th></tr>\n",
       "\t<tr><th></th><th scope=col>&lt;chr&gt;</th><th scope=col>&lt;int&gt;</th><th scope=col>&lt;int&gt;</th><th scope=col>&lt;chr&gt;</th><th scope=col>&lt;int&gt;</th><th scope=col>&lt;dbl&gt;</th><th scope=col>&lt;chr&gt;</th><th scope=col>&lt;chr&gt;</th><th scope=col>&lt;chr&gt;</th><th scope=col>&lt;chr&gt;</th><th scope=col>&lt;int&gt;</th><th scope=col>&lt;dbl&gt;</th><th scope=col>&lt;dbl&gt;</th><th scope=col>&lt;dbl&gt;</th><th scope=col>&lt;dbl&gt;</th><th scope=col>&lt;dbl&gt;</th><th scope=col>&lt;dbl&gt;</th><th scope=col>&lt;dbl&gt;</th><th scope=col>&lt;dbl&gt;</th><th scope=col>&lt;dbl&gt;</th></tr>\n",
       "</thead>\n",
       "<tbody>\n",
       "\t<tr><th scope=row>1</th><td>Alaa Abdelnaby     </td><td>1991</td><td>1995</td><td>['Forward', 'Center']</td><td>82</td><td>240</td><td>June 24, 1968    </td><td>['Duke']                       </td><td>False</td><td>False</td><td> 256</td><td> 5.7</td><td> 3.3</td><td>0.3</td><td>50.2</td><td> 0.0</td><td>70.1</td><td>50.2</td><td> 13.0</td><td>  4.8</td></tr>\n",
       "\t<tr><th scope=row>2</th><td>Zaid Abdul-Aziz    </td><td>1969</td><td>1978</td><td>['Center', 'Forward']</td><td>81</td><td>235</td><td>April 7, 1946    </td><td>['Iowa State']                 </td><td>False</td><td>False</td><td> 505</td><td> 9.0</td><td> 8.0</td><td>1.2</td><td>42.8</td><td>  NA</td><td>72.8</td><td>  NA</td><td> 15.1</td><td> 17.5</td></tr>\n",
       "\t<tr><th scope=row>3</th><td>Kareem Abdul-Jabbar</td><td>1970</td><td>1989</td><td>['Center']           </td><td>86</td><td>225</td><td>April 16, 1947   </td><td>['UCLA']                       </td><td>True </td><td>False</td><td>1560</td><td>24.6</td><td>11.2</td><td>3.6</td><td>55.9</td><td> 5.6</td><td>72.1</td><td>55.9</td><td> 24.6</td><td>273.4</td></tr>\n",
       "\t<tr><th scope=row>4</th><td>Mahmoud Abdul-Rauf </td><td>1991</td><td>2001</td><td>['Guard']            </td><td>73</td><td>162</td><td>March 9, 1969    </td><td>['LSU']                        </td><td>False</td><td>False</td><td> 586</td><td>14.6</td><td> 1.9</td><td>3.5</td><td>44.2</td><td>35.4</td><td>90.5</td><td>47.2</td><td> 15.4</td><td> 25.2</td></tr>\n",
       "\t<tr><th scope=row>5</th><td>Tariq Abdul-Wahad  </td><td>1998</td><td>2003</td><td>['Forward']          </td><td>78</td><td>223</td><td>November 3, 1974 </td><td>['Michigan', ' San Jose State']</td><td>False</td><td>False</td><td> 236</td><td> 7.8</td><td> 3.3</td><td>1.1</td><td>41.7</td><td>23.7</td><td>70.3</td><td>42.2</td><td> 11.4</td><td>  3.5</td></tr>\n",
       "\t<tr><th scope=row>6</th><td>Shareef Abdur-Rahim</td><td>1997</td><td>2008</td><td>['Forward']          </td><td>81</td><td>225</td><td>December 11, 1976</td><td>['California']                 </td><td>False</td><td>False</td><td> 830</td><td>18.1</td><td> 7.5</td><td>2.5</td><td>47.2</td><td>29.7</td><td>81.0</td><td>47.9</td><td> 19.0</td><td> 71.2</td></tr>\n",
       "\t<tr><th scope=row>7</th><td>Tom Abernethy      </td><td>1977</td><td>1981</td><td>['Forward']          </td><td>79</td><td>220</td><td>May 6, 1954      </td><td>['Indiana']                    </td><td>False</td><td>False</td><td> 319</td><td> 5.6</td><td> 3.2</td><td>1.2</td><td>49.2</td><td> 0.0</td><td>74.7</td><td>49.2</td><td> 12.9</td><td> 13.4</td></tr>\n",
       "\t<tr><th scope=row>8</th><td>Forest Able        </td><td>1957</td><td>1957</td><td>['Guard']            </td><td>75</td><td>180</td><td>July 27, 1932    </td><td>['Western Kentucky']           </td><td>False</td><td>False</td><td>   1</td><td> 0.0</td><td> 1.0</td><td>1.0</td><td> 0.0</td><td>  NA</td><td>  NA</td><td>  NA</td><td>-41.5</td><td>  0.0</td></tr>\n",
       "\t<tr><th scope=row>9</th><td>John Abramovic     </td><td>1947</td><td>1948</td><td>['Forward']          </td><td>75</td><td>195</td><td>February 9, 1919 </td><td>['Salem University']           </td><td>False</td><td>False</td><td>  56</td><td> 9.5</td><td>  NA</td><td>0.7</td><td>23.7</td><td>  NA</td><td>68.6</td><td>  NA</td><td>   NA</td><td> -1.9</td></tr>\n",
       "\t<tr><th scope=row>10</th><td>Álex Abrines       </td><td>2017</td><td>2019</td><td>['Guard', 'Forward'] </td><td>78</td><td>200</td><td>August 1, 1993   </td><td>                               </td><td>False</td><td>False</td><td> 174</td><td> 5.3</td><td> 1.4</td><td>0.5</td><td>38.7</td><td>36.8</td><td>88.0</td><td>52.5</td><td>  8.8</td><td>  5.0</td></tr>\n",
       "</tbody>\n",
       "</table>\n"
      ],
      "text/latex": [
       "A data.frame: 10 × 20\n",
       "\\begin{tabular}{r|llllllllllllllllllll}\n",
       "  & Name & Debut & Final & Position & Height & Weight & Birthday & School & HOF & Active & G & PTS & TRB & AST & FG. & FG3. & FT. & eFG. & PER & WS\\\\\n",
       "  & <chr> & <int> & <int> & <chr> & <int> & <dbl> & <chr> & <chr> & <chr> & <chr> & <int> & <dbl> & <dbl> & <dbl> & <dbl> & <dbl> & <dbl> & <dbl> & <dbl> & <dbl>\\\\\n",
       "\\hline\n",
       "\t1 & Alaa Abdelnaby      & 1991 & 1995 & {[}'Forward', 'Center'{]} & 82 & 240 & June 24, 1968     & {[}'Duke'{]}                        & False & False &  256 &  5.7 &  3.3 & 0.3 & 50.2 &  0.0 & 70.1 & 50.2 &  13.0 &   4.8\\\\\n",
       "\t2 & Zaid Abdul-Aziz     & 1969 & 1978 & {[}'Center', 'Forward'{]} & 81 & 235 & April 7, 1946     & {[}'Iowa State'{]}                  & False & False &  505 &  9.0 &  8.0 & 1.2 & 42.8 &   NA & 72.8 &   NA &  15.1 &  17.5\\\\\n",
       "\t3 & Kareem Abdul-Jabbar & 1970 & 1989 & {[}'Center'{]}            & 86 & 225 & April 16, 1947    & {[}'UCLA'{]}                        & True  & False & 1560 & 24.6 & 11.2 & 3.6 & 55.9 &  5.6 & 72.1 & 55.9 &  24.6 & 273.4\\\\\n",
       "\t4 & Mahmoud Abdul-Rauf  & 1991 & 2001 & {[}'Guard'{]}             & 73 & 162 & March 9, 1969     & {[}'LSU'{]}                         & False & False &  586 & 14.6 &  1.9 & 3.5 & 44.2 & 35.4 & 90.5 & 47.2 &  15.4 &  25.2\\\\\n",
       "\t5 & Tariq Abdul-Wahad   & 1998 & 2003 & {[}'Forward'{]}           & 78 & 223 & November 3, 1974  & {[}'Michigan', ' San Jose State'{]} & False & False &  236 &  7.8 &  3.3 & 1.1 & 41.7 & 23.7 & 70.3 & 42.2 &  11.4 &   3.5\\\\\n",
       "\t6 & Shareef Abdur-Rahim & 1997 & 2008 & {[}'Forward'{]}           & 81 & 225 & December 11, 1976 & {[}'California'{]}                  & False & False &  830 & 18.1 &  7.5 & 2.5 & 47.2 & 29.7 & 81.0 & 47.9 &  19.0 &  71.2\\\\\n",
       "\t7 & Tom Abernethy       & 1977 & 1981 & {[}'Forward'{]}           & 79 & 220 & May 6, 1954       & {[}'Indiana'{]}                     & False & False &  319 &  5.6 &  3.2 & 1.2 & 49.2 &  0.0 & 74.7 & 49.2 &  12.9 &  13.4\\\\\n",
       "\t8 & Forest Able         & 1957 & 1957 & {[}'Guard'{]}             & 75 & 180 & July 27, 1932     & {[}'Western Kentucky'{]}            & False & False &    1 &  0.0 &  1.0 & 1.0 &  0.0 &   NA &   NA &   NA & -41.5 &   0.0\\\\\n",
       "\t9 & John Abramovic      & 1947 & 1948 & {[}'Forward'{]}           & 75 & 195 & February 9, 1919  & {[}'Salem University'{]}            & False & False &   56 &  9.5 &   NA & 0.7 & 23.7 &   NA & 68.6 &   NA &    NA &  -1.9\\\\\n",
       "\t10 & Álex Abrines        & 2017 & 2019 & {[}'Guard', 'Forward'{]}  & 78 & 200 & August 1, 1993    &                                 & False & False &  174 &  5.3 &  1.4 & 0.5 & 38.7 & 36.8 & 88.0 & 52.5 &   8.8 &   5.0\\\\\n",
       "\\end{tabular}\n"
      ],
      "text/markdown": [
       "\n",
       "A data.frame: 10 × 20\n",
       "\n",
       "| <!--/--> | Name &lt;chr&gt; | Debut &lt;int&gt; | Final &lt;int&gt; | Position &lt;chr&gt; | Height &lt;int&gt; | Weight &lt;dbl&gt; | Birthday &lt;chr&gt; | School &lt;chr&gt; | HOF &lt;chr&gt; | Active &lt;chr&gt; | G &lt;int&gt; | PTS &lt;dbl&gt; | TRB &lt;dbl&gt; | AST &lt;dbl&gt; | FG. &lt;dbl&gt; | FG3. &lt;dbl&gt; | FT. &lt;dbl&gt; | eFG. &lt;dbl&gt; | PER &lt;dbl&gt; | WS &lt;dbl&gt; |\n",
       "|---|---|---|---|---|---|---|---|---|---|---|---|---|---|---|---|---|---|---|---|---|\n",
       "| 1 | Alaa Abdelnaby      | 1991 | 1995 | ['Forward', 'Center'] | 82 | 240 | June 24, 1968     | ['Duke']                        | False | False |  256 |  5.7 |  3.3 | 0.3 | 50.2 |  0.0 | 70.1 | 50.2 |  13.0 |   4.8 |\n",
       "| 2 | Zaid Abdul-Aziz     | 1969 | 1978 | ['Center', 'Forward'] | 81 | 235 | April 7, 1946     | ['Iowa State']                  | False | False |  505 |  9.0 |  8.0 | 1.2 | 42.8 |   NA | 72.8 |   NA |  15.1 |  17.5 |\n",
       "| 3 | Kareem Abdul-Jabbar | 1970 | 1989 | ['Center']            | 86 | 225 | April 16, 1947    | ['UCLA']                        | True  | False | 1560 | 24.6 | 11.2 | 3.6 | 55.9 |  5.6 | 72.1 | 55.9 |  24.6 | 273.4 |\n",
       "| 4 | Mahmoud Abdul-Rauf  | 1991 | 2001 | ['Guard']             | 73 | 162 | March 9, 1969     | ['LSU']                         | False | False |  586 | 14.6 |  1.9 | 3.5 | 44.2 | 35.4 | 90.5 | 47.2 |  15.4 |  25.2 |\n",
       "| 5 | Tariq Abdul-Wahad   | 1998 | 2003 | ['Forward']           | 78 | 223 | November 3, 1974  | ['Michigan', ' San Jose State'] | False | False |  236 |  7.8 |  3.3 | 1.1 | 41.7 | 23.7 | 70.3 | 42.2 |  11.4 |   3.5 |\n",
       "| 6 | Shareef Abdur-Rahim | 1997 | 2008 | ['Forward']           | 81 | 225 | December 11, 1976 | ['California']                  | False | False |  830 | 18.1 |  7.5 | 2.5 | 47.2 | 29.7 | 81.0 | 47.9 |  19.0 |  71.2 |\n",
       "| 7 | Tom Abernethy       | 1977 | 1981 | ['Forward']           | 79 | 220 | May 6, 1954       | ['Indiana']                     | False | False |  319 |  5.6 |  3.2 | 1.2 | 49.2 |  0.0 | 74.7 | 49.2 |  12.9 |  13.4 |\n",
       "| 8 | Forest Able         | 1957 | 1957 | ['Guard']             | 75 | 180 | July 27, 1932     | ['Western Kentucky']            | False | False |    1 |  0.0 |  1.0 | 1.0 |  0.0 |   NA |   NA |   NA | -41.5 |   0.0 |\n",
       "| 9 | John Abramovic      | 1947 | 1948 | ['Forward']           | 75 | 195 | February 9, 1919  | ['Salem University']            | False | False |   56 |  9.5 |   NA | 0.7 | 23.7 |   NA | 68.6 |   NA |    NA |  -1.9 |\n",
       "| 10 | Álex Abrines        | 2017 | 2019 | ['Guard', 'Forward']  | 78 | 200 | August 1, 1993    | <!----> | False | False |  174 |  5.3 |  1.4 | 0.5 | 38.7 | 36.8 | 88.0 | 52.5 |   8.8 |   5.0 |\n",
       "\n"
      ],
      "text/plain": [
       "   Name                Debut Final Position              Height Weight\n",
       "1  Alaa Abdelnaby      1991  1995  ['Forward', 'Center'] 82     240   \n",
       "2  Zaid Abdul-Aziz     1969  1978  ['Center', 'Forward'] 81     235   \n",
       "3  Kareem Abdul-Jabbar 1970  1989  ['Center']            86     225   \n",
       "4  Mahmoud Abdul-Rauf  1991  2001  ['Guard']             73     162   \n",
       "5  Tariq Abdul-Wahad   1998  2003  ['Forward']           78     223   \n",
       "6  Shareef Abdur-Rahim 1997  2008  ['Forward']           81     225   \n",
       "7  Tom Abernethy       1977  1981  ['Forward']           79     220   \n",
       "8  Forest Able         1957  1957  ['Guard']             75     180   \n",
       "9  John Abramovic      1947  1948  ['Forward']           75     195   \n",
       "10 Álex Abrines        2017  2019  ['Guard', 'Forward']  78     200   \n",
       "   Birthday          School                          HOF   Active G    PTS \n",
       "1  June 24, 1968     ['Duke']                        False False   256  5.7\n",
       "2  April 7, 1946     ['Iowa State']                  False False   505  9.0\n",
       "3  April 16, 1947    ['UCLA']                        True  False  1560 24.6\n",
       "4  March 9, 1969     ['LSU']                         False False   586 14.6\n",
       "5  November 3, 1974  ['Michigan', ' San Jose State'] False False   236  7.8\n",
       "6  December 11, 1976 ['California']                  False False   830 18.1\n",
       "7  May 6, 1954       ['Indiana']                     False False   319  5.6\n",
       "8  July 27, 1932     ['Western Kentucky']            False False     1  0.0\n",
       "9  February 9, 1919  ['Salem University']            False False    56  9.5\n",
       "10 August 1, 1993                                    False False   174  5.3\n",
       "   TRB  AST FG.  FG3. FT.  eFG. PER   WS   \n",
       "1   3.3 0.3 50.2  0.0 70.1 50.2  13.0   4.8\n",
       "2   8.0 1.2 42.8   NA 72.8   NA  15.1  17.5\n",
       "3  11.2 3.6 55.9  5.6 72.1 55.9  24.6 273.4\n",
       "4   1.9 3.5 44.2 35.4 90.5 47.2  15.4  25.2\n",
       "5   3.3 1.1 41.7 23.7 70.3 42.2  11.4   3.5\n",
       "6   7.5 2.5 47.2 29.7 81.0 47.9  19.0  71.2\n",
       "7   3.2 1.2 49.2  0.0 74.7 49.2  12.9  13.4\n",
       "8   1.0 1.0  0.0   NA   NA   NA -41.5   0.0\n",
       "9    NA 0.7 23.7   NA 68.6   NA    NA  -1.9\n",
       "10  1.4 0.5 38.7 36.8 88.0 52.5   8.8   5.0"
      ]
     },
     "metadata": {},
     "output_type": "display_data"
    }
   ],
   "source": [
    "\n",
    "library(dplyr)\n",
    "library(ggplot2)\n",
    "library(scales)\n",
    "library(lme4)\n",
    "library(misty)\n",
    "library(texreg)\n",
    "library(ggrepel)\n",
    "library(tidyr)\n",
    "library(lattice)\n",
    "library(gridExtra)\n",
    "library(ggthemes)\n",
    "\n",
    "nba<- read.csv(\"D:/RSTUDIOWD/papers/nba-proyect/NBA_PLAYERS.csv\")\n",
    "\n",
    "head(nba,10)"
   ]
  },
  {
   "cell_type": "markdown",
   "metadata": {},
   "source": [
    "## Variable processing in R\n",
    "\n",
    "First, we clear our NA cases\n"
   ]
  },
  {
   "cell_type": "code",
   "execution_count": null,
   "metadata": {},
   "outputs": [],
   "source": [
    "nba<- nba %>% \n",
    "  na.omit()"
   ]
  },
  {
   "cell_type": "markdown",
   "metadata": {},
   "source": [
    "Now, let's take a look at the variables in the dataset"
   ]
  },
  {
   "cell_type": "code",
   "execution_count": null,
   "metadata": {},
   "outputs": [],
   "source": [
    "colnames(nba)"
   ]
  },
  {
   "cell_type": "markdown",
   "metadata": {},
   "source": [
    "For the Schools, we display the 10 schools with most cases"
   ]
  },
  {
   "cell_type": "code",
   "execution_count": null,
   "metadata": {},
   "outputs": [],
   "source": [
    "colnames(nba)\n",
    "nba %>% \n",
    "count(School, sort = T) %>% \n",
    "  head(10)"
   ]
  },
  {
   "cell_type": "markdown",
   "metadata": {},
   "source": [
    "Here we observe that the variable with most cases is not labeled, but is not a missed value either. This means that these players did not come from any School. We label this situation as \\`street\\`."
   ]
  },
  {
   "cell_type": "code",
   "execution_count": null,
   "metadata": {},
   "outputs": [],
   "source": [
    "nba <- nba %>%\n",
    "  mutate(School = ifelse(School == \"\" | is.na(School), \"street\", School))"
   ]
  },
  {
   "cell_type": "markdown",
   "metadata": {},
   "source": [
    "For \\`Height\\` and \\`Weight\\` variables, we transform them to a real metric system :D"
   ]
  },
  {
   "cell_type": "code",
   "execution_count": null,
   "metadata": {},
   "outputs": [],
   "source": [
    "nba<- nba %>% \n",
    "  mutate(\n",
    "    Height_cm = Height * 2.54,\n",
    "    Weight_kg = Weight * 0.453592,\n",
    "    total_pts_carrer = PTS * G\n",
    "    )\n",
    "\n",
    "nba %>% \n",
    "  summarise(\n",
    "    mean_pts = mean(PTS),\n",
    "    max_pts = max(PTS),\n",
    "    sd_pts = sd(PTS),\n",
    "    avg_height = mean(Height_cm),\n",
    "    avg_weight = mean(Weight_kg)\n",
    "  )"
   ]
  },
  {
   "cell_type": "markdown",
   "metadata": {},
   "source": [
    "For \\`Position\\` variable, we display its values and then filter the variable to include only those cases in which players are listed as Center, Forward-Center or Center-Forward."
   ]
  },
  {
   "cell_type": "code",
   "execution_count": null,
   "metadata": {},
   "outputs": [],
   "source": [
    "nba %>% \n",
    "  count(Position)\n",
    "\n",
    "nba %>% \n",
    "  filter(Position %in% c(\"['Center', 'Forward']\", \"['Center']\", \"['Forward', 'Center']\")) %>% \n",
    "  group_by(Position) %>% \n",
    "  summarise(AVG_PTS = mean(PTS))"
   ]
  },
  {
   "cell_type": "markdown",
   "metadata": {},
   "source": [
    "Now we can explore our Centers"
   ]
  },
  {
   "cell_type": "code",
   "execution_count": null,
   "metadata": {},
   "outputs": [],
   "source": [
    "nba %>% \n",
    "  filter(Position %in% c(\"['Center', 'Forward']\", \"['Center']\", \"['Forward', 'Center']\"),\n",
    "         Active == \"True\") %>%  \n",
    "  group_by(Position) %>% \n",
    "  slice_max(order_by = PTS, n = 10) %>% \n",
    "  select(Position, Name, PTS, Active, Height_cm, Weight_kg) %>% \n",
    "  arrange(Position, desc(PTS))\n"
   ]
  },
  {
   "cell_type": "markdown",
   "metadata": {},
   "source": [
    "Top 3 Centers"
   ]
  },
  {
   "cell_type": "code",
   "execution_count": null,
   "metadata": {},
   "outputs": [],
   "source": [
    "nba %>% \n",
    "  filter(Position %in% c(\"['Center', 'Forward']\", \"['Center']\", \"['Forward', 'Center']\"),\n",
    "         Active == \"True\") %>%  \n",
    "  group_by(Position) %>% \n",
    "  slice_max(order_by = PTS, n = 3) %>% \n",
    "  select(Position, Name, PTS, Active, Height_cm, Weight_kg, G,total_pts_carrer) %>% \n",
    "  arrange(Position, desc(PTS))"
   ]
  },
  {
   "cell_type": "markdown",
   "metadata": {},
   "source": [
    "Before we jump into the inference analysis, we need to do some changes first:\n",
    "\n",
    "-   Rename the variable \\`G\\` to \\`games\\`\n",
    "\n",
    "-   Create a new variable called \\`PTSCENTER\\`, which contains the average points scored by active Centers in 2025\n",
    "\n",
    "-   Change the reference category for Position variable to \"\\['Center'\\]\""
   ]
  },
  {
   "cell_type": "code",
   "execution_count": null,
   "metadata": {},
   "outputs": [],
   "source": [
    "nba<- nba %>% \n",
    "  mutate(\n",
    "    games = G,\n",
    "    PTSCENTER = case_when(\n",
    "      Position %in% c(\"['Center', 'Forward']\", \"['Center']\", \"['Forward', 'Center']\") & Active == \"True\" ~ PTS\n",
    "    )\n",
    "  )"
   ]
  },
  {
   "cell_type": "markdown",
   "metadata": {},
   "source": [
    "We create a new dataset for active Centers"
   ]
  },
  {
   "cell_type": "code",
   "execution_count": null,
   "metadata": {},
   "outputs": [],
   "source": [
    "nba_centers <- nba %>%\n",
    "  filter(!is.na(PTSCENTER))"
   ]
  },
  {
   "cell_type": "markdown",
   "metadata": {},
   "source": [
    "## Inference Analysis\n",
    "\n",
    "For this part of the exercise, we estimate a linear regression model (OLS), which says as follows:\n",
    "\n",
    "$$\n",
    "AvgPointsScored_i = \\beta_0 + \\beta_1  Position_i + \\beta_2Games_i + \\beta_3Height_{cm_i} + \\beta_4 Weight_{cm_i} + \\\\ \\beta_5AvgAsist_i +  \\beta_6AvgRebounds_i + \\varepsilon_i\n",
    "$$\n",
    "\n",
    "We estimate model 1 and its fitted values"
   ]
  },
  {
   "cell_type": "code",
   "execution_count": null,
   "metadata": {},
   "outputs": [],
   "source": [
    "m1<- lm(PTSCENTER ~ Position + games +Height_cm + Weight_kg + AST + TRB, data = nba_centers )\n",
    "screenreg(m1)\n",
    "\n",
    "nba_centers$fittedvalues <- predict(m1)"
   ]
  },
  {
   "cell_type": "markdown",
   "metadata": {},
   "source": [
    "After that, we obtain the 10 highest fitted values and then we generate the plot"
   ]
  },
  {
   "cell_type": "code",
   "execution_count": null,
   "metadata": {},
   "outputs": [],
   "source": [
    "nba_centers %>% \n",
    "  select(Name, PTS, fittedvalues, Position) %>% \n",
    "  slice_max(order_by = fittedvalues, n = 10) \n"
   ]
  },
  {
   "cell_type": "code",
   "execution_count": null,
   "metadata": {},
   "outputs": [],
   "source": [
    "nba_centers %>%\n",
    "  ggplot(aes(x = fittedvalues, y = PTS)) +\n",
    "  geom_point(alpha = 0.6, color = \"steelblue\") +\n",
    "  geom_abline(slope = 1, intercept = 0, linetype = \"dashed\", color = \"red\") +\n",
    "  labs(\n",
    "    title = \"Comparación entre puntos reales y predichos\",\n",
    "    x = \"Puntos predichos (fittedvalues)\",\n",
    "    y = \"Puntos reales (PTS)\"\n",
    "  ) +\n",
    "  theme_bw()"
   ]
  },
  {
   "cell_type": "markdown",
   "metadata": {},
   "source": [
    "## Logit Model\n",
    "\n",
    "For this part, we estimate a logit model. First things first, we obtain the average rebounds from the entire sample. Then we get the max and min rebounds values."
   ]
  },
  {
   "cell_type": "code",
   "execution_count": null,
   "metadata": {},
   "outputs": [],
   "source": [
    "nba_centers %>% \n",
    "  summarise(\n",
    "    avg_rb = mean(TRB),\n",
    "    max = max(TRB),\n",
    "    min = min(TRB)\n",
    "  )"
   ]
  },
  {
   "cell_type": "markdown",
   "metadata": {},
   "source": [
    "In the following step, we create a new variable called \\`rb_dummy\\` in which returns 1 if the player have an average of 6 or greater rebounds per game, and 0 if the total rebounds are less than 6."
   ]
  },
  {
   "cell_type": "code",
   "execution_count": null,
   "metadata": {},
   "outputs": [],
   "source": [
    "nba_centers <- nba_centers %>% \n",
    "  mutate(\n",
    "    rb_dummy = case_when(\n",
    "      TRB >= 6 ~ 1,\n",
    "      TRB < 6 ~ 0\n",
    "    )\n",
    "  )"
   ]
  },
  {
   "cell_type": "markdown",
   "metadata": {},
   "source": [
    "We estimate the logit model"
   ]
  },
  {
   "cell_type": "code",
   "execution_count": null,
   "metadata": {},
   "outputs": [],
   "source": [
    "m2<- glm(rb_dummy ~  PTSCENTER + Position + games +Height_cm + Weight_kg + AST, data = nba_centers,\n",
    "         family = binomial (link = \"logit\") )\n",
    "screenreg(m2)"
   ]
  },
  {
   "cell_type": "markdown",
   "metadata": {},
   "source": [
    "INTERPRETAR"
   ]
  },
  {
   "cell_type": "markdown",
   "metadata": {},
   "source": [
    "## Multilevel model (MEM)\n",
    "\n",
    "Finally, we estimate a multilevel model. In this part, we expand the sample to include all positions and players in the data base whether actives or not. Lastly, for the level-2 variables, we select the top 5 schools with the highest players in order to simplify the exercise."
   ]
  },
  {
   "cell_type": "code",
   "execution_count": null,
   "metadata": {},
   "outputs": [],
   "source": [
    "nba<- nba %>% \n",
    "  mutate(\n",
    "    CENTERS = Position %in% c(\"['Center', 'Forward']\", \"['Center']\", \"['Forward', 'Center']\")\n",
    "    )\n",
    "  \n",
    "top5_schools <- nba %>%\n",
    "  count(School, sort = TRUE) %>%\n",
    "  slice_max(n, n = 5) %>%\n",
    "  pull(School)\n",
    "  \n",
    " \n",
    "\n",
    "nba_top5_schools <- nba %>% \n",
    "  filter(School %in% top5_schools) \n",
    "\n",
    "nba_top5_schools %>% \n",
    "  count(School, sort = T)"
   ]
  },
  {
   "cell_type": "markdown",
   "metadata": {},
   "source": [
    "## Centering\n",
    "\n",
    "Our interest is to\n"
   ]
  },
  {
   "cell_type": "code",
   "execution_count": null,
   "metadata": {},
   "outputs": [],
   "source": [
    "nba_top5_schools$games_cgm <- center(nba_top5_schools$games, type = \"CGM\")\n",
    "nba_top5_schools$Height_cm_cgm <- center(nba_top5_schools$Height_cm, type = \"CGM\")\n",
    "nba_top5_schools$Weight_kg_cgm <- center(nba_top5_schools$Weight_kg, type = \"CGM\")\n",
    "nba_top5_schools$AST_cgm <- center(nba_top5_schools$AST, type = \"CGM\")\n",
    "nba_top5_schools$TRB_cgm <- center(nba_top5_schools$TRB, type = \"CGM\")"
   ]
  },
  {
   "cell_type": "markdown",
   "metadata": {},
   "source": [
    "We estimate three models. First, the"
   ]
  },
  {
   "cell_type": "code",
   "execution_count": null,
   "metadata": {},
   "outputs": [],
   "source": [
    "mnulo<- lmer(PTS ~ 1 + (1|School), data = nba_top5_schools)\n",
    "\n",
    "m3<- lmer(PTS ~ Position + games_cgm + Height_cm_cgm + Weight_kg_cgm + AST_cgm + TRB_cgm + (1|School)  , data = nba_top5_schools)\n",
    "\n",
    "\n",
    "m4<- lmer(PTS ~ Position + games_cgm + Height_cm_cgm + Weight_kg_cgm + AST_cgm + TRB_cgm + (TRB_cgm|School)  , data = nba_top5_schools)\n",
    "screenreg(list(mnulo,m3, m4), single.row = T)"
   ]
  },
  {
   "cell_type": "markdown",
   "metadata": {},
   "source": [
    "Now we calculate the ICC\n"
   ]
  },
  {
   "cell_type": "code",
   "execution_count": null,
   "metadata": {},
   "outputs": [],
   "source": [
    "ICC = 0.93/(0.93+29.32) * 100\n",
    "print(ICC)\n"
   ]
  },
  {
   "cell_type": "markdown",
   "metadata": {},
   "source": [
    "ANOVA"
   ]
  },
  {
   "cell_type": "code",
   "execution_count": null,
   "metadata": {},
   "outputs": [],
   "source": [
    "anova(m3,m4)"
   ]
  },
  {
   "cell_type": "markdown",
   "metadata": {},
   "source": [
    "qqmath graph"
   ]
  },
  {
   "cell_type": "code",
   "execution_count": null,
   "metadata": {},
   "outputs": [],
   "source": [
    "qqmath(ranef(mnulo, condVar = TRUE))"
   ]
  },
  {
   "cell_type": "markdown",
   "metadata": {},
   "source": [
    "Now, we plot model 3"
   ]
  },
  {
   "cell_type": "code",
   "execution_count": null,
   "metadata": {},
   "outputs": [],
   "source": [
    "ranefs_m3 <- ranef(m3)$School\n",
    "ranefs_m3$School <- rownames(ranefs_m3)\n",
    "colnames(ranefs_m3) <- c(\"intercept_ranef\", \"School\")\n",
    "\n",
    "fixefs_m3 <- fixef(m3)\n",
    "intercept_fixed <- fixefs_m3[\"(Intercept)\"]\n",
    "slope_fixed <- fixefs_m3[\"TRB_cgm\"]\n",
    "\n",
    "\n",
    "TRB_seq <- seq(from = min(nba_top5_schools$TRB_cgm, na.rm = TRUE),\n",
    "               to = max(nba_top5_schools$TRB_cgm, na.rm = TRUE),\n",
    "               length.out = 100)\n",
    "\n",
    "line_data_m3 <- expand.grid(\n",
    "  TRB_cgm = TRB_seq,\n",
    "  School = unique(nba_top5_schools$School)\n",
    ")\n",
    "\n",
    "line_data_m3 <- left_join(line_data_m3, ranefs_m3, by = \"School\")\n",
    "\n",
    "line_data_m3 <- line_data_m3 %>%\n",
    "  mutate(\n",
    "    intercept_total = intercept_fixed + intercept_ranef,\n",
    "    # Pendiente fija, igual para todas las escuelas\n",
    "    slope_total = slope_fixed,\n",
    "    PTS_pred = intercept_total + slope_total * TRB_cgm\n",
    "  )\n",
    "\n",
    "ggplot(nba_top5_schools, aes(x = TRB_cgm, y = PTS, color = School)) +\n",
    "  geom_point(alpha = 0.6) +\n",
    "  geom_line(data = line_data_m3, aes(x = TRB_cgm, y = PTS_pred, color = School), size = 1) +\n",
    "  facet_wrap(~ School) +\n",
    "  labs(\n",
    "    title = \"Fitted values m3 (random intercept, fixed slope)\",\n",
    "    x = \"Centering TRB (Grand Mean)\",\n",
    "    y = \"PTS\",\n",
    "    color = \"School\"\n",
    "  ) +\n",
    "  theme_bw()"
   ]
  },
  {
   "cell_type": "markdown",
   "metadata": {},
   "source": [
    "modelo 4 plot"
   ]
  },
  {
   "cell_type": "code",
   "execution_count": null,
   "metadata": {},
   "outputs": [],
   "source": [
    "nba_top5_schools$PTS_pred <- predict(m4, re.form = NULL)\n",
    "ranefs <- ranef(m4)$School\n",
    "ranefs$School <- rownames(ranefs)\n",
    "colnames(ranefs) <- c(\"intercept_ranef\", \"TRB_cgm_ranef\", \"School\")\n",
    "\n",
    "\n",
    "fixefs <- fixef(m4)\n",
    "intercept_fixed <- fixefs[\"(Intercept)\"]\n",
    "slope_fixed <- fixefs[\"TRB_cgm\"]\n",
    "\n",
    "\n",
    "# Crear un grid de valores centrados de TRB\n",
    "TRB_seq <- seq(from = min(nba_top5_schools$TRB_cgm, na.rm = TRUE),\n",
    "               to = max(nba_top5_schools$TRB_cgm, na.rm = TRUE),\n",
    "               length.out = 100)\n",
    "\n",
    "# Expandir para cada escuela\n",
    "line_data <- expand.grid(\n",
    "  TRB_cgm = TRB_seq,\n",
    "  School = unique(nba_top5_schools$School)\n",
    ")\n",
    "\n",
    "# Juntar con efectos aleatorios\n",
    "line_data <- left_join(line_data, ranefs, by = \"School\")\n",
    "\n",
    "\n",
    "# Calcular pendiente e intercepto total por escuela\n",
    "line_data <- line_data %>%\n",
    "  mutate(\n",
    "    intercept_total = intercept_fixed + intercept_ranef,\n",
    "    slope_total = slope_fixed + TRB_cgm_ranef,\n",
    "    PTS_pred = intercept_total + slope_total * TRB_cgm\n",
    "  )\n",
    "\n",
    "ggplot(nba_top5_schools, aes(x = TRB_cgm, y = PTS, color = School)) +\n",
    "  geom_point(alpha = 0.6) +\n",
    "  geom_line(data = line_data, aes(x = TRB_cgm, y = PTS_pred, color = School), size = 1) +\n",
    "  facet_wrap(~ School) +\n",
    "  labs(\n",
    "    title = \"Fitted values m4 (random intercept, random slope)\",\n",
    "    x = \"Centering TRB (Grand Mean)\",\n",
    "    y = \"PTS\",\n",
    "    color = \"School\"\n",
    "  ) +\n",
    "  theme_bw()"
   ]
  },
  {
   "cell_type": "markdown",
   "metadata": {},
   "source": [
    "Lastly, we obtain the intercepts and slopes of each model."
   ]
  },
  {
   "cell_type": "code",
   "execution_count": null,
   "metadata": {},
   "outputs": [],
   "source": [
    "# Para m3 (solo intercepto aleatorio)\n",
    "ranefs_m3 <- ranef(m3)$School %>% \n",
    "  as.data.frame() %>% \n",
    "  rename(intercept_ranef = `(Intercept)`) %>% \n",
    "  mutate(School = rownames(ranef(m3)$School)) %>% \n",
    "  select(School, intercept_ranef)\n",
    "\n",
    "fixefs_m3 <- fixef(m3)\n",
    "intercept_fixed_m3 <- fixefs_m3[\"(Intercept)\"]\n",
    "slope_fixed_m3 <- fixefs_m3[\"TRB_cgm\"]\n",
    "\n",
    "ranefs_m3 <- ranefs_m3 %>%\n",
    "  mutate(\n",
    "    intercept_total = intercept_fixed_m3 + intercept_ranef,\n",
    "    slope_fixed = slope_fixed_m3\n",
    "  )\n",
    "\n",
    "print(\"Interceptos y pendiente fija por escuela modelo m3:\")\n",
    "print(ranefs_m3)\n"
   ]
  },
  {
   "cell_type": "code",
   "execution_count": null,
   "metadata": {},
   "outputs": [],
   "source": [
    "ranefs_m4 <- ranef(m4)$School %>% \n",
    "  as.data.frame() %>% \n",
    "  rename(\n",
    "    intercept_ranef = `(Intercept)`,\n",
    "    slope_ranef = TRB_cgm\n",
    "  ) %>% \n",
    "  mutate(School = rownames(ranef(m4)$School)) %>% \n",
    "  select(School, intercept_ranef, slope_ranef)\n",
    "\n",
    "fixefs_m4 <- fixef(m4)\n",
    "intercept_fixed_m4 <- fixefs_m4[\"(Intercept)\"]\n",
    "slope_fixed_m4 <- fixefs_m4[\"TRB_cgm\"]\n",
    "\n",
    "ranefs_m4 <- ranefs_m4 %>%\n",
    "  mutate(\n",
    "    intercept_total = intercept_fixed_m4 + intercept_ranef,\n",
    "    slope_total = slope_fixed_m4 + slope_ranef\n",
    "  )\n",
    "\n",
    "print(\"Interceptos y pendientes (random slopes) por escuela modelo m4:\")\n",
    "print(ranefs_m4)"
   ]
  }
 ],
 "metadata": {
  "kernelspec": {
   "display_name": "R",
   "language": "R",
   "name": "ir"
  },
  "language_info": {
   "codemirror_mode": "r",
   "file_extension": ".r",
   "mimetype": "text/x-r-source",
   "name": "R",
   "pygments_lexer": "r",
   "version": "4.5.1"
  }
 },
 "nbformat": 4,
 "nbformat_minor": 4
}
