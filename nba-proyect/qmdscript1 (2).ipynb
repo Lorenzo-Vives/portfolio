{
 "cells": [
  {
   "cell_type": "markdown",
   "metadata": {},
   "source": [
    "\n",
    "## NBA project\n",
    "\n",
    "Here you will find a little project about data analysis. Particularly, this project contains data manipulation, data visualization, OLS, Logit and MEM (Mixed Effects Models). I´m using an `nba` database which contains 5313 players from 1947-2025. You can find more details about this dataset [here](https://www.kaggle.com/datasets/flynn28/v2-nba-player-database/data).\n",
    "\n",
    "I will be working with this variables:\n",
    "\n",
    "`Name`: Players name\n",
    "\n",
    "`Position`: Players position(s)\n",
    "\n",
    "`Height`: Height of player (inches)\n",
    "\n",
    "`Weight`: Weight of player (lbs)\n",
    "\n",
    "`School`: School(s) player attended\n",
    "\n",
    "`Active`: If player is currently playing (True or False)\n",
    "\n",
    "`G`: amount of games played by player\n",
    "\n",
    "`PTS`: average points scored by player per game\n",
    "\n",
    "`TRB`: average rebounds by player per game\n",
    "\n",
    "`AST`: average assists per game\n",
    "\n",
    "## Research exercise\n",
    "\n",
    "For this project, I will be analyzing the relationship between being a Center (here I will include those who can play two positions, for example Forward-Center or Center-Forward ) and scoring performance. Also, some predictors will be included, such as Games played, Height, Weight, average total asists per game (AST), average total rebounds per game (TRB).\n",
    "\n",
    "## Data and libraries\n",
    "\n",
    "So, let's get into the data! We will be working with the following libraries. Then we load our NBA data."
   ]
  },
  {
   "cell_type": "code",
   "execution_count": 37,
   "metadata": {},
   "outputs": [],
   "source": [
    "\n",
    "library(dplyr)\n",
    "library(ggplot2)\n",
    "library(scales)\n",
    "library(lme4)\n",
    "library(misty)\n",
    "library(texreg)\n",
    "library(ggrepel)\n",
    "library(tidyr)\n",
    "library(lattice)\n",
    "library(gridExtra)\n",
    "library(ggthemes)\n",
    "library(stargazer)\n",
    "library(IRdisplay)\n",
    "nba<- read.csv(\"D:/RSTUDIOWD/papers/nba-proyect/NBA_PLAYERS.csv\")\n"
   ]
  },
  {
   "cell_type": "markdown",
   "metadata": {},
   "source": [
    "## Variable processing in R\n",
    "\n",
    "First, we clear our NA cases\n"
   ]
  },
  {
   "cell_type": "code",
   "execution_count": 38,
   "metadata": {},
   "outputs": [],
   "source": [
    "nba<- nba %>% \n",
    "  na.omit()"
   ]
  },
  {
   "cell_type": "markdown",
   "metadata": {},
   "source": [
    "Now, let's take a look at the variables in the dataset"
   ]
  },
  {
   "cell_type": "code",
   "execution_count": 39,
   "metadata": {},
   "outputs": [
    {
     "data": {
      "text/html": [
       "<style>\n",
       ".list-inline {list-style: none; margin:0; padding: 0}\n",
       ".list-inline>li {display: inline-block}\n",
       ".list-inline>li:not(:last-child)::after {content: \"\\00b7\"; padding: 0 .5ex}\n",
       "</style>\n",
       "<ol class=list-inline><li>'Name'</li><li>'Debut'</li><li>'Final'</li><li>'Position'</li><li>'Height'</li><li>'Weight'</li><li>'Birthday'</li><li>'School'</li><li>'HOF'</li><li>'Active'</li><li>'G'</li><li>'PTS'</li><li>'TRB'</li><li>'AST'</li><li>'FG.'</li><li>'FG3.'</li><li>'FT.'</li><li>'eFG.'</li><li>'PER'</li><li>'WS'</li></ol>\n"
      ],
      "text/latex": [
       "\\begin{enumerate*}\n",
       "\\item 'Name'\n",
       "\\item 'Debut'\n",
       "\\item 'Final'\n",
       "\\item 'Position'\n",
       "\\item 'Height'\n",
       "\\item 'Weight'\n",
       "\\item 'Birthday'\n",
       "\\item 'School'\n",
       "\\item 'HOF'\n",
       "\\item 'Active'\n",
       "\\item 'G'\n",
       "\\item 'PTS'\n",
       "\\item 'TRB'\n",
       "\\item 'AST'\n",
       "\\item 'FG.'\n",
       "\\item 'FG3.'\n",
       "\\item 'FT.'\n",
       "\\item 'eFG.'\n",
       "\\item 'PER'\n",
       "\\item 'WS'\n",
       "\\end{enumerate*}\n"
      ],
      "text/markdown": [
       "1. 'Name'\n",
       "2. 'Debut'\n",
       "3. 'Final'\n",
       "4. 'Position'\n",
       "5. 'Height'\n",
       "6. 'Weight'\n",
       "7. 'Birthday'\n",
       "8. 'School'\n",
       "9. 'HOF'\n",
       "10. 'Active'\n",
       "11. 'G'\n",
       "12. 'PTS'\n",
       "13. 'TRB'\n",
       "14. 'AST'\n",
       "15. 'FG.'\n",
       "16. 'FG3.'\n",
       "17. 'FT.'\n",
       "18. 'eFG.'\n",
       "19. 'PER'\n",
       "20. 'WS'\n",
       "\n",
       "\n"
      ],
      "text/plain": [
       " [1] \"Name\"     \"Debut\"    \"Final\"    \"Position\" \"Height\"   \"Weight\"  \n",
       " [7] \"Birthday\" \"School\"   \"HOF\"      \"Active\"   \"G\"        \"PTS\"     \n",
       "[13] \"TRB\"      \"AST\"      \"FG.\"      \"FG3.\"     \"FT.\"      \"eFG.\"    \n",
       "[19] \"PER\"      \"WS\"      "
      ]
     },
     "metadata": {},
     "output_type": "display_data"
    }
   ],
   "source": [
    "colnames(nba)"
   ]
  },
  {
   "cell_type": "markdown",
   "metadata": {},
   "source": [
    "For the Schools, we display the 10 schools with most cases"
   ]
  },
  {
   "cell_type": "code",
   "execution_count": 40,
   "metadata": {},
   "outputs": [
    {
     "data": {
      "text/html": [
       "<style>\n",
       ".list-inline {list-style: none; margin:0; padding: 0}\n",
       ".list-inline>li {display: inline-block}\n",
       ".list-inline>li:not(:last-child)::after {content: \"\\00b7\"; padding: 0 .5ex}\n",
       "</style>\n",
       "<ol class=list-inline><li>'Name'</li><li>'Debut'</li><li>'Final'</li><li>'Position'</li><li>'Height'</li><li>'Weight'</li><li>'Birthday'</li><li>'School'</li><li>'HOF'</li><li>'Active'</li><li>'G'</li><li>'PTS'</li><li>'TRB'</li><li>'AST'</li><li>'FG.'</li><li>'FG3.'</li><li>'FT.'</li><li>'eFG.'</li><li>'PER'</li><li>'WS'</li></ol>\n"
      ],
      "text/latex": [
       "\\begin{enumerate*}\n",
       "\\item 'Name'\n",
       "\\item 'Debut'\n",
       "\\item 'Final'\n",
       "\\item 'Position'\n",
       "\\item 'Height'\n",
       "\\item 'Weight'\n",
       "\\item 'Birthday'\n",
       "\\item 'School'\n",
       "\\item 'HOF'\n",
       "\\item 'Active'\n",
       "\\item 'G'\n",
       "\\item 'PTS'\n",
       "\\item 'TRB'\n",
       "\\item 'AST'\n",
       "\\item 'FG.'\n",
       "\\item 'FG3.'\n",
       "\\item 'FT.'\n",
       "\\item 'eFG.'\n",
       "\\item 'PER'\n",
       "\\item 'WS'\n",
       "\\end{enumerate*}\n"
      ],
      "text/markdown": [
       "1. 'Name'\n",
       "2. 'Debut'\n",
       "3. 'Final'\n",
       "4. 'Position'\n",
       "5. 'Height'\n",
       "6. 'Weight'\n",
       "7. 'Birthday'\n",
       "8. 'School'\n",
       "9. 'HOF'\n",
       "10. 'Active'\n",
       "11. 'G'\n",
       "12. 'PTS'\n",
       "13. 'TRB'\n",
       "14. 'AST'\n",
       "15. 'FG.'\n",
       "16. 'FG3.'\n",
       "17. 'FT.'\n",
       "18. 'eFG.'\n",
       "19. 'PER'\n",
       "20. 'WS'\n",
       "\n",
       "\n"
      ],
      "text/plain": [
       " [1] \"Name\"     \"Debut\"    \"Final\"    \"Position\" \"Height\"   \"Weight\"  \n",
       " [7] \"Birthday\" \"School\"   \"HOF\"      \"Active\"   \"G\"        \"PTS\"     \n",
       "[13] \"TRB\"      \"AST\"      \"FG.\"      \"FG3.\"     \"FT.\"      \"eFG.\"    \n",
       "[19] \"PER\"      \"WS\"      "
      ]
     },
     "metadata": {},
     "output_type": "display_data"
    },
    {
     "data": {
      "text/html": [
       "<table class=\"dataframe\">\n",
       "<caption>A data.frame: 10 × 2</caption>\n",
       "<thead>\n",
       "\t<tr><th></th><th scope=col>School</th><th scope=col>n</th></tr>\n",
       "\t<tr><th></th><th scope=col>&lt;chr&gt;</th><th scope=col>&lt;int&gt;</th></tr>\n",
       "</thead>\n",
       "<tbody>\n",
       "\t<tr><th scope=row>1</th><td>            </td><td>327</td></tr>\n",
       "\t<tr><th scope=row>2</th><td>['Kentucky']</td><td> 89</td></tr>\n",
       "\t<tr><th scope=row>3</th><td>['Duke']    </td><td> 77</td></tr>\n",
       "\t<tr><th scope=row>4</th><td>['UCLA']    </td><td> 75</td></tr>\n",
       "\t<tr><th scope=row>5</th><td>['UNC']     </td><td> 74</td></tr>\n",
       "\t<tr><th scope=row>6</th><td>['Kansas']  </td><td> 57</td></tr>\n",
       "\t<tr><th scope=row>7</th><td>['Michigan']</td><td> 48</td></tr>\n",
       "\t<tr><th scope=row>8</th><td>['Arizona'] </td><td> 47</td></tr>\n",
       "\t<tr><th scope=row>9</th><td>['Indiana'] </td><td> 41</td></tr>\n",
       "\t<tr><th scope=row>10</th><td>['LSU']     </td><td> 38</td></tr>\n",
       "</tbody>\n",
       "</table>\n"
      ],
      "text/latex": [
       "A data.frame: 10 × 2\n",
       "\\begin{tabular}{r|ll}\n",
       "  & School & n\\\\\n",
       "  & <chr> & <int>\\\\\n",
       "\\hline\n",
       "\t1 &              & 327\\\\\n",
       "\t2 & {[}'Kentucky'{]} &  89\\\\\n",
       "\t3 & {[}'Duke'{]}     &  77\\\\\n",
       "\t4 & {[}'UCLA'{]}     &  75\\\\\n",
       "\t5 & {[}'UNC'{]}      &  74\\\\\n",
       "\t6 & {[}'Kansas'{]}   &  57\\\\\n",
       "\t7 & {[}'Michigan'{]} &  48\\\\\n",
       "\t8 & {[}'Arizona'{]}  &  47\\\\\n",
       "\t9 & {[}'Indiana'{]}  &  41\\\\\n",
       "\t10 & {[}'LSU'{]}      &  38\\\\\n",
       "\\end{tabular}\n"
      ],
      "text/markdown": [
       "\n",
       "A data.frame: 10 × 2\n",
       "\n",
       "| <!--/--> | School &lt;chr&gt; | n &lt;int&gt; |\n",
       "|---|---|---|\n",
       "| 1 | <!----> | 327 |\n",
       "| 2 | ['Kentucky'] |  89 |\n",
       "| 3 | ['Duke']     |  77 |\n",
       "| 4 | ['UCLA']     |  75 |\n",
       "| 5 | ['UNC']      |  74 |\n",
       "| 6 | ['Kansas']   |  57 |\n",
       "| 7 | ['Michigan'] |  48 |\n",
       "| 8 | ['Arizona']  |  47 |\n",
       "| 9 | ['Indiana']  |  41 |\n",
       "| 10 | ['LSU']      |  38 |\n",
       "\n"
      ],
      "text/plain": [
       "   School       n  \n",
       "1               327\n",
       "2  ['Kentucky']  89\n",
       "3  ['Duke']      77\n",
       "4  ['UCLA']      75\n",
       "5  ['UNC']       74\n",
       "6  ['Kansas']    57\n",
       "7  ['Michigan']  48\n",
       "8  ['Arizona']   47\n",
       "9  ['Indiana']   41\n",
       "10 ['LSU']       38"
      ]
     },
     "metadata": {},
     "output_type": "display_data"
    }
   ],
   "source": [
    "colnames(nba)\n",
    "nba %>% \n",
    "count(School, sort = T) %>% \n",
    "  head(10)"
   ]
  },
  {
   "cell_type": "markdown",
   "metadata": {},
   "source": [
    "Here we observe that the variable with most cases is not labeled, but is not a missed value either. This means that these players did not come from any School. We label this situation as \\`street\\`."
   ]
  },
  {
   "cell_type": "code",
   "execution_count": 41,
   "metadata": {},
   "outputs": [],
   "source": [
    "nba <- nba %>%\n",
    "  mutate(School = ifelse(School == \"\" | is.na(School), \"street\", School))"
   ]
  },
  {
   "cell_type": "markdown",
   "metadata": {},
   "source": [
    "For \\`Height\\` and \\`Weight\\` variables, we transform them to a real metric system :D"
   ]
  },
  {
   "cell_type": "code",
   "execution_count": 42,
   "metadata": {},
   "outputs": [
    {
     "data": {
      "text/html": [
       "<table class=\"dataframe\">\n",
       "<caption>A data.frame: 1 × 5</caption>\n",
       "<thead>\n",
       "\t<tr><th scope=col>mean_pts</th><th scope=col>max_pts</th><th scope=col>sd_pts</th><th scope=col>avg_height</th><th scope=col>avg_weight</th></tr>\n",
       "\t<tr><th scope=col>&lt;dbl&gt;</th><th scope=col>&lt;dbl&gt;</th><th scope=col>&lt;dbl&gt;</th><th scope=col>&lt;dbl&gt;</th><th scope=col>&lt;dbl&gt;</th></tr>\n",
       "</thead>\n",
       "<tbody>\n",
       "\t<tr><td>7.257452</td><td>30.1</td><td>4.827874</td><td>198.7787</td><td>95.68334</td></tr>\n",
       "</tbody>\n",
       "</table>\n"
      ],
      "text/latex": [
       "A data.frame: 1 × 5\n",
       "\\begin{tabular}{lllll}\n",
       " mean\\_pts & max\\_pts & sd\\_pts & avg\\_height & avg\\_weight\\\\\n",
       " <dbl> & <dbl> & <dbl> & <dbl> & <dbl>\\\\\n",
       "\\hline\n",
       "\t 7.257452 & 30.1 & 4.827874 & 198.7787 & 95.68334\\\\\n",
       "\\end{tabular}\n"
      ],
      "text/markdown": [
       "\n",
       "A data.frame: 1 × 5\n",
       "\n",
       "| mean_pts &lt;dbl&gt; | max_pts &lt;dbl&gt; | sd_pts &lt;dbl&gt; | avg_height &lt;dbl&gt; | avg_weight &lt;dbl&gt; |\n",
       "|---|---|---|---|---|\n",
       "| 7.257452 | 30.1 | 4.827874 | 198.7787 | 95.68334 |\n",
       "\n"
      ],
      "text/plain": [
       "  mean_pts max_pts sd_pts   avg_height avg_weight\n",
       "1 7.257452 30.1    4.827874 198.7787   95.68334  "
      ]
     },
     "metadata": {},
     "output_type": "display_data"
    }
   ],
   "source": [
    "nba<- nba %>% \n",
    "  mutate(\n",
    "    Height_cm = Height * 2.54,\n",
    "    Weight_kg = Weight * 0.453592,\n",
    "    total_pts_carrer = PTS * G\n",
    "    )\n",
    "\n",
    "nba %>% \n",
    "  summarise(\n",
    "    mean_pts = mean(PTS),\n",
    "    max_pts = max(PTS),\n",
    "    sd_pts = sd(PTS),\n",
    "    avg_height = mean(Height_cm),\n",
    "    avg_weight = mean(Weight_kg)\n",
    "  )"
   ]
  },
  {
   "cell_type": "markdown",
   "metadata": {},
   "source": [
    "For \\`Position\\` variable, we display its values and then filter the variable to include only those cases in which players are listed as Center, Forward-Center or Center-Forward."
   ]
  },
  {
   "cell_type": "code",
   "execution_count": 43,
   "metadata": {},
   "outputs": [
    {
     "data": {
      "text/html": [
       "<table class=\"dataframe\">\n",
       "<caption>A data.frame: 7 × 2</caption>\n",
       "<thead>\n",
       "\t<tr><th scope=col>Position</th><th scope=col>n</th></tr>\n",
       "\t<tr><th scope=col>&lt;chr&gt;</th><th scope=col>&lt;int&gt;</th></tr>\n",
       "</thead>\n",
       "<tbody>\n",
       "\t<tr><td>['Center', 'Forward']</td><td> 144</td></tr>\n",
       "\t<tr><td>['Center']           </td><td> 282</td></tr>\n",
       "\t<tr><td>['Forward', 'Center']</td><td> 293</td></tr>\n",
       "\t<tr><td>['Forward', 'Guard'] </td><td> 136</td></tr>\n",
       "\t<tr><td>['Forward']          </td><td> 988</td></tr>\n",
       "\t<tr><td>['Guard', 'Forward'] </td><td> 298</td></tr>\n",
       "\t<tr><td>['Guard']            </td><td>1422</td></tr>\n",
       "</tbody>\n",
       "</table>\n"
      ],
      "text/latex": [
       "A data.frame: 7 × 2\n",
       "\\begin{tabular}{ll}\n",
       " Position & n\\\\\n",
       " <chr> & <int>\\\\\n",
       "\\hline\n",
       "\t {[}'Center', 'Forward'{]} &  144\\\\\n",
       "\t {[}'Center'{]}            &  282\\\\\n",
       "\t {[}'Forward', 'Center'{]} &  293\\\\\n",
       "\t {[}'Forward', 'Guard'{]}  &  136\\\\\n",
       "\t {[}'Forward'{]}           &  988\\\\\n",
       "\t {[}'Guard', 'Forward'{]}  &  298\\\\\n",
       "\t {[}'Guard'{]}             & 1422\\\\\n",
       "\\end{tabular}\n"
      ],
      "text/markdown": [
       "\n",
       "A data.frame: 7 × 2\n",
       "\n",
       "| Position &lt;chr&gt; | n &lt;int&gt; |\n",
       "|---|---|\n",
       "| ['Center', 'Forward'] |  144 |\n",
       "| ['Center']            |  282 |\n",
       "| ['Forward', 'Center'] |  293 |\n",
       "| ['Forward', 'Guard']  |  136 |\n",
       "| ['Forward']           |  988 |\n",
       "| ['Guard', 'Forward']  |  298 |\n",
       "| ['Guard']             | 1422 |\n",
       "\n"
      ],
      "text/plain": [
       "  Position              n   \n",
       "1 ['Center', 'Forward']  144\n",
       "2 ['Center']             282\n",
       "3 ['Forward', 'Center']  293\n",
       "4 ['Forward', 'Guard']   136\n",
       "5 ['Forward']            988\n",
       "6 ['Guard', 'Forward']   298\n",
       "7 ['Guard']             1422"
      ]
     },
     "metadata": {},
     "output_type": "display_data"
    },
    {
     "data": {
      "text/html": [
       "<table class=\"dataframe\">\n",
       "<caption>A tibble: 3 × 2</caption>\n",
       "<thead>\n",
       "\t<tr><th scope=col>Position</th><th scope=col>AVG_PTS</th></tr>\n",
       "\t<tr><th scope=col>&lt;chr&gt;</th><th scope=col>&lt;dbl&gt;</th></tr>\n",
       "</thead>\n",
       "<tbody>\n",
       "\t<tr><td>['Center', 'Forward']</td><td>8.949306</td></tr>\n",
       "\t<tr><td>['Center']           </td><td>6.687943</td></tr>\n",
       "\t<tr><td>['Forward', 'Center']</td><td>8.673720</td></tr>\n",
       "</tbody>\n",
       "</table>\n"
      ],
      "text/latex": [
       "A tibble: 3 × 2\n",
       "\\begin{tabular}{ll}\n",
       " Position & AVG\\_PTS\\\\\n",
       " <chr> & <dbl>\\\\\n",
       "\\hline\n",
       "\t {[}'Center', 'Forward'{]} & 8.949306\\\\\n",
       "\t {[}'Center'{]}            & 6.687943\\\\\n",
       "\t {[}'Forward', 'Center'{]} & 8.673720\\\\\n",
       "\\end{tabular}\n"
      ],
      "text/markdown": [
       "\n",
       "A tibble: 3 × 2\n",
       "\n",
       "| Position &lt;chr&gt; | AVG_PTS &lt;dbl&gt; |\n",
       "|---|---|\n",
       "| ['Center', 'Forward'] | 8.949306 |\n",
       "| ['Center']            | 6.687943 |\n",
       "| ['Forward', 'Center'] | 8.673720 |\n",
       "\n"
      ],
      "text/plain": [
       "  Position              AVG_PTS \n",
       "1 ['Center', 'Forward'] 8.949306\n",
       "2 ['Center']            6.687943\n",
       "3 ['Forward', 'Center'] 8.673720"
      ]
     },
     "metadata": {},
     "output_type": "display_data"
    }
   ],
   "source": [
    "nba %>% \n",
    "  count(Position)\n",
    "\n",
    "nba %>% \n",
    "  filter(Position %in% c(\"['Center', 'Forward']\", \"['Center']\", \"['Forward', 'Center']\")) %>% \n",
    "  group_by(Position) %>% \n",
    "  summarise(AVG_PTS = mean(PTS))"
   ]
  },
  {
   "cell_type": "markdown",
   "metadata": {},
   "source": [
    "NBA Centers score an average of 6 to 9 points per game aprox. Also, their average height it's about 2 meters. For weight, a tipical NBA Center it's around 100kg. Now we can explore our Centers:"
   ]
  },
  {
   "cell_type": "code",
   "execution_count": 44,
   "metadata": {},
   "outputs": [
    {
     "data": {
      "text/html": [
       "<table class=\"dataframe\">\n",
       "<caption>A grouped_df: 30 × 6</caption>\n",
       "<thead>\n",
       "\t<tr><th scope=col>Position</th><th scope=col>Name</th><th scope=col>PTS</th><th scope=col>Active</th><th scope=col>Height_cm</th><th scope=col>Weight_kg</th></tr>\n",
       "\t<tr><th scope=col>&lt;chr&gt;</th><th scope=col>&lt;chr&gt;</th><th scope=col>&lt;dbl&gt;</th><th scope=col>&lt;chr&gt;</th><th scope=col>&lt;dbl&gt;</th><th scope=col>&lt;dbl&gt;</th></tr>\n",
       "</thead>\n",
       "<tbody>\n",
       "\t<tr><td>['Center', 'Forward']</td><td>Karl-Anthony Towns</td><td>23.1</td><td>True</td><td>213.36</td><td>112.49082</td></tr>\n",
       "\t<tr><td>['Center', 'Forward']</td><td>Victor Wembanyama </td><td>22.5</td><td>True</td><td>220.98</td><td>106.59412</td></tr>\n",
       "\t<tr><td>['Center', 'Forward']</td><td>Nikola Jokić      </td><td>21.8</td><td>True</td><td>210.82</td><td>128.82013</td></tr>\n",
       "\t<tr><td>['Center', 'Forward']</td><td>Domantas Sabonis  </td><td>16.1</td><td>True</td><td>208.28</td><td>108.86208</td></tr>\n",
       "\t<tr><td>['Center', 'Forward']</td><td>Alperen Şengün    </td><td>16.0</td><td>True</td><td>210.82</td><td>106.59412</td></tr>\n",
       "\t<tr><td>['Center', 'Forward']</td><td>Bam Adebayo       </td><td>15.7</td><td>True</td><td>205.74</td><td>115.66596</td></tr>\n",
       "\t<tr><td>['Center', 'Forward']</td><td>Myles Turner      </td><td>14.1</td><td>True</td><td>210.82</td><td>113.39800</td></tr>\n",
       "\t<tr><td>['Center', 'Forward']</td><td>Al Horford        </td><td>12.9</td><td>True</td><td>205.74</td><td>108.86208</td></tr>\n",
       "\t<tr><td>['Center', 'Forward']</td><td>Jarrett Allen     </td><td>12.8</td><td>True</td><td>210.82</td><td>110.22286</td></tr>\n",
       "\t<tr><td>['Center', 'Forward']</td><td>Jahlil Okafor     </td><td>10.3</td><td>True</td><td>208.28</td><td>122.46984</td></tr>\n",
       "\t<tr><td>['Center']           </td><td>Joel Embiid       </td><td>27.7</td><td>True</td><td>213.36</td><td>127.00576</td></tr>\n",
       "\t<tr><td>['Center']           </td><td>Nikola Vučević    </td><td>17.2</td><td>True</td><td>208.28</td><td>117.93392</td></tr>\n",
       "\t<tr><td>['Center']           </td><td>Deandre Ayton     </td><td>16.4</td><td>True</td><td>213.36</td><td>113.39800</td></tr>\n",
       "\t<tr><td>['Center']           </td><td>Brook Lopez       </td><td>15.9</td><td>True</td><td>215.90</td><td>127.91294</td></tr>\n",
       "\t<tr><td>['Center']           </td><td>Jonas Valančiūnas </td><td>13.1</td><td>True</td><td>210.82</td><td>120.20188</td></tr>\n",
       "\t<tr><td>['Center']           </td><td>Rudy Gobert       </td><td>12.6</td><td>True</td><td>215.90</td><td>117.02674</td></tr>\n",
       "\t<tr><td>['Center']           </td><td>Andre Drummond    </td><td>12.5</td><td>True</td><td>210.82</td><td>126.55217</td></tr>\n",
       "\t<tr><td>['Center']           </td><td>Mark Williams     </td><td>12.3</td><td>True</td><td>213.36</td><td>109.31567</td></tr>\n",
       "\t<tr><td>['Center']           </td><td>Clint Capela      </td><td>12.0</td><td>True</td><td>208.28</td><td>108.86208</td></tr>\n",
       "\t<tr><td>['Center']           </td><td>Wendell Carter Jr.</td><td>11.9</td><td>True</td><td>208.28</td><td>122.46984</td></tr>\n",
       "\t<tr><td>['Forward', 'Center']</td><td>Zion Williamson   </td><td>24.7</td><td>True</td><td>198.12</td><td>128.82013</td></tr>\n",
       "\t<tr><td>['Forward', 'Center']</td><td>Anthony Davis     </td><td>24.1</td><td>True</td><td>208.28</td><td>114.75878</td></tr>\n",
       "\t<tr><td>['Forward', 'Center']</td><td>Kristaps Porziņģis</td><td>19.6</td><td>True</td><td>218.44</td><td>108.86208</td></tr>\n",
       "\t<tr><td>['Forward', 'Center']</td><td>Julius Randle     </td><td>19.0</td><td>True</td><td>205.74</td><td>113.39800</td></tr>\n",
       "\t<tr><td>['Forward', 'Center']</td><td>Lauri Markkanen   </td><td>18.2</td><td>True</td><td>213.36</td><td>108.86208</td></tr>\n",
       "\t<tr><td>['Forward', 'Center']</td><td>Pascal Siakam     </td><td>18.0</td><td>True</td><td>203.20</td><td>104.32616</td></tr>\n",
       "\t<tr><td>['Forward', 'Center']</td><td>Evan Mobley       </td><td>16.4</td><td>True</td><td>210.82</td><td> 97.52228</td></tr>\n",
       "\t<tr><td>['Forward', 'Center']</td><td>Kevin Love        </td><td>16.2</td><td>True</td><td>203.20</td><td>113.85159</td></tr>\n",
       "\t<tr><td>['Forward', 'Center']</td><td>Chet Holmgren     </td><td>16.1</td><td>True</td><td>215.90</td><td> 96.61510</td></tr>\n",
       "\t<tr><td>['Forward', 'Center']</td><td>Montrezl Harrell  </td><td>12.1</td><td>True</td><td>200.66</td><td>108.86208</td></tr>\n",
       "</tbody>\n",
       "</table>\n"
      ],
      "text/latex": [
       "A grouped\\_df: 30 × 6\n",
       "\\begin{tabular}{llllll}\n",
       " Position & Name & PTS & Active & Height\\_cm & Weight\\_kg\\\\\n",
       " <chr> & <chr> & <dbl> & <chr> & <dbl> & <dbl>\\\\\n",
       "\\hline\n",
       "\t {[}'Center', 'Forward'{]} & Karl-Anthony Towns & 23.1 & True & 213.36 & 112.49082\\\\\n",
       "\t {[}'Center', 'Forward'{]} & Victor Wembanyama  & 22.5 & True & 220.98 & 106.59412\\\\\n",
       "\t {[}'Center', 'Forward'{]} & Nikola Jokić       & 21.8 & True & 210.82 & 128.82013\\\\\n",
       "\t {[}'Center', 'Forward'{]} & Domantas Sabonis   & 16.1 & True & 208.28 & 108.86208\\\\\n",
       "\t {[}'Center', 'Forward'{]} & Alperen Şengün     & 16.0 & True & 210.82 & 106.59412\\\\\n",
       "\t {[}'Center', 'Forward'{]} & Bam Adebayo        & 15.7 & True & 205.74 & 115.66596\\\\\n",
       "\t {[}'Center', 'Forward'{]} & Myles Turner       & 14.1 & True & 210.82 & 113.39800\\\\\n",
       "\t {[}'Center', 'Forward'{]} & Al Horford         & 12.9 & True & 205.74 & 108.86208\\\\\n",
       "\t {[}'Center', 'Forward'{]} & Jarrett Allen      & 12.8 & True & 210.82 & 110.22286\\\\\n",
       "\t {[}'Center', 'Forward'{]} & Jahlil Okafor      & 10.3 & True & 208.28 & 122.46984\\\\\n",
       "\t {[}'Center'{]}            & Joel Embiid        & 27.7 & True & 213.36 & 127.00576\\\\\n",
       "\t {[}'Center'{]}            & Nikola Vučević     & 17.2 & True & 208.28 & 117.93392\\\\\n",
       "\t {[}'Center'{]}            & Deandre Ayton      & 16.4 & True & 213.36 & 113.39800\\\\\n",
       "\t {[}'Center'{]}            & Brook Lopez        & 15.9 & True & 215.90 & 127.91294\\\\\n",
       "\t {[}'Center'{]}            & Jonas Valančiūnas  & 13.1 & True & 210.82 & 120.20188\\\\\n",
       "\t {[}'Center'{]}            & Rudy Gobert        & 12.6 & True & 215.90 & 117.02674\\\\\n",
       "\t {[}'Center'{]}            & Andre Drummond     & 12.5 & True & 210.82 & 126.55217\\\\\n",
       "\t {[}'Center'{]}            & Mark Williams      & 12.3 & True & 213.36 & 109.31567\\\\\n",
       "\t {[}'Center'{]}            & Clint Capela       & 12.0 & True & 208.28 & 108.86208\\\\\n",
       "\t {[}'Center'{]}            & Wendell Carter Jr. & 11.9 & True & 208.28 & 122.46984\\\\\n",
       "\t {[}'Forward', 'Center'{]} & Zion Williamson    & 24.7 & True & 198.12 & 128.82013\\\\\n",
       "\t {[}'Forward', 'Center'{]} & Anthony Davis      & 24.1 & True & 208.28 & 114.75878\\\\\n",
       "\t {[}'Forward', 'Center'{]} & Kristaps Porziņģis & 19.6 & True & 218.44 & 108.86208\\\\\n",
       "\t {[}'Forward', 'Center'{]} & Julius Randle      & 19.0 & True & 205.74 & 113.39800\\\\\n",
       "\t {[}'Forward', 'Center'{]} & Lauri Markkanen    & 18.2 & True & 213.36 & 108.86208\\\\\n",
       "\t {[}'Forward', 'Center'{]} & Pascal Siakam      & 18.0 & True & 203.20 & 104.32616\\\\\n",
       "\t {[}'Forward', 'Center'{]} & Evan Mobley        & 16.4 & True & 210.82 &  97.52228\\\\\n",
       "\t {[}'Forward', 'Center'{]} & Kevin Love         & 16.2 & True & 203.20 & 113.85159\\\\\n",
       "\t {[}'Forward', 'Center'{]} & Chet Holmgren      & 16.1 & True & 215.90 &  96.61510\\\\\n",
       "\t {[}'Forward', 'Center'{]} & Montrezl Harrell   & 12.1 & True & 200.66 & 108.86208\\\\\n",
       "\\end{tabular}\n"
      ],
      "text/markdown": [
       "\n",
       "A grouped_df: 30 × 6\n",
       "\n",
       "| Position &lt;chr&gt; | Name &lt;chr&gt; | PTS &lt;dbl&gt; | Active &lt;chr&gt; | Height_cm &lt;dbl&gt; | Weight_kg &lt;dbl&gt; |\n",
       "|---|---|---|---|---|---|\n",
       "| ['Center', 'Forward'] | Karl-Anthony Towns | 23.1 | True | 213.36 | 112.49082 |\n",
       "| ['Center', 'Forward'] | Victor Wembanyama  | 22.5 | True | 220.98 | 106.59412 |\n",
       "| ['Center', 'Forward'] | Nikola Jokić       | 21.8 | True | 210.82 | 128.82013 |\n",
       "| ['Center', 'Forward'] | Domantas Sabonis   | 16.1 | True | 208.28 | 108.86208 |\n",
       "| ['Center', 'Forward'] | Alperen Şengün     | 16.0 | True | 210.82 | 106.59412 |\n",
       "| ['Center', 'Forward'] | Bam Adebayo        | 15.7 | True | 205.74 | 115.66596 |\n",
       "| ['Center', 'Forward'] | Myles Turner       | 14.1 | True | 210.82 | 113.39800 |\n",
       "| ['Center', 'Forward'] | Al Horford         | 12.9 | True | 205.74 | 108.86208 |\n",
       "| ['Center', 'Forward'] | Jarrett Allen      | 12.8 | True | 210.82 | 110.22286 |\n",
       "| ['Center', 'Forward'] | Jahlil Okafor      | 10.3 | True | 208.28 | 122.46984 |\n",
       "| ['Center']            | Joel Embiid        | 27.7 | True | 213.36 | 127.00576 |\n",
       "| ['Center']            | Nikola Vučević     | 17.2 | True | 208.28 | 117.93392 |\n",
       "| ['Center']            | Deandre Ayton      | 16.4 | True | 213.36 | 113.39800 |\n",
       "| ['Center']            | Brook Lopez        | 15.9 | True | 215.90 | 127.91294 |\n",
       "| ['Center']            | Jonas Valančiūnas  | 13.1 | True | 210.82 | 120.20188 |\n",
       "| ['Center']            | Rudy Gobert        | 12.6 | True | 215.90 | 117.02674 |\n",
       "| ['Center']            | Andre Drummond     | 12.5 | True | 210.82 | 126.55217 |\n",
       "| ['Center']            | Mark Williams      | 12.3 | True | 213.36 | 109.31567 |\n",
       "| ['Center']            | Clint Capela       | 12.0 | True | 208.28 | 108.86208 |\n",
       "| ['Center']            | Wendell Carter Jr. | 11.9 | True | 208.28 | 122.46984 |\n",
       "| ['Forward', 'Center'] | Zion Williamson    | 24.7 | True | 198.12 | 128.82013 |\n",
       "| ['Forward', 'Center'] | Anthony Davis      | 24.1 | True | 208.28 | 114.75878 |\n",
       "| ['Forward', 'Center'] | Kristaps Porziņģis | 19.6 | True | 218.44 | 108.86208 |\n",
       "| ['Forward', 'Center'] | Julius Randle      | 19.0 | True | 205.74 | 113.39800 |\n",
       "| ['Forward', 'Center'] | Lauri Markkanen    | 18.2 | True | 213.36 | 108.86208 |\n",
       "| ['Forward', 'Center'] | Pascal Siakam      | 18.0 | True | 203.20 | 104.32616 |\n",
       "| ['Forward', 'Center'] | Evan Mobley        | 16.4 | True | 210.82 |  97.52228 |\n",
       "| ['Forward', 'Center'] | Kevin Love         | 16.2 | True | 203.20 | 113.85159 |\n",
       "| ['Forward', 'Center'] | Chet Holmgren      | 16.1 | True | 215.90 |  96.61510 |\n",
       "| ['Forward', 'Center'] | Montrezl Harrell   | 12.1 | True | 200.66 | 108.86208 |\n",
       "\n"
      ],
      "text/plain": [
       "   Position              Name               PTS  Active Height_cm Weight_kg\n",
       "1  ['Center', 'Forward'] Karl-Anthony Towns 23.1 True   213.36    112.49082\n",
       "2  ['Center', 'Forward'] Victor Wembanyama  22.5 True   220.98    106.59412\n",
       "3  ['Center', 'Forward'] Nikola Jokić       21.8 True   210.82    128.82013\n",
       "4  ['Center', 'Forward'] Domantas Sabonis   16.1 True   208.28    108.86208\n",
       "5  ['Center', 'Forward'] Alperen Şengün     16.0 True   210.82    106.59412\n",
       "6  ['Center', 'Forward'] Bam Adebayo        15.7 True   205.74    115.66596\n",
       "7  ['Center', 'Forward'] Myles Turner       14.1 True   210.82    113.39800\n",
       "8  ['Center', 'Forward'] Al Horford         12.9 True   205.74    108.86208\n",
       "9  ['Center', 'Forward'] Jarrett Allen      12.8 True   210.82    110.22286\n",
       "10 ['Center', 'Forward'] Jahlil Okafor      10.3 True   208.28    122.46984\n",
       "11 ['Center']            Joel Embiid        27.7 True   213.36    127.00576\n",
       "12 ['Center']            Nikola Vučević     17.2 True   208.28    117.93392\n",
       "13 ['Center']            Deandre Ayton      16.4 True   213.36    113.39800\n",
       "14 ['Center']            Brook Lopez        15.9 True   215.90    127.91294\n",
       "15 ['Center']            Jonas Valančiūnas  13.1 True   210.82    120.20188\n",
       "16 ['Center']            Rudy Gobert        12.6 True   215.90    117.02674\n",
       "17 ['Center']            Andre Drummond     12.5 True   210.82    126.55217\n",
       "18 ['Center']            Mark Williams      12.3 True   213.36    109.31567\n",
       "19 ['Center']            Clint Capela       12.0 True   208.28    108.86208\n",
       "20 ['Center']            Wendell Carter Jr. 11.9 True   208.28    122.46984\n",
       "21 ['Forward', 'Center'] Zion Williamson    24.7 True   198.12    128.82013\n",
       "22 ['Forward', 'Center'] Anthony Davis      24.1 True   208.28    114.75878\n",
       "23 ['Forward', 'Center'] Kristaps Porziņģis 19.6 True   218.44    108.86208\n",
       "24 ['Forward', 'Center'] Julius Randle      19.0 True   205.74    113.39800\n",
       "25 ['Forward', 'Center'] Lauri Markkanen    18.2 True   213.36    108.86208\n",
       "26 ['Forward', 'Center'] Pascal Siakam      18.0 True   203.20    104.32616\n",
       "27 ['Forward', 'Center'] Evan Mobley        16.4 True   210.82     97.52228\n",
       "28 ['Forward', 'Center'] Kevin Love         16.2 True   203.20    113.85159\n",
       "29 ['Forward', 'Center'] Chet Holmgren      16.1 True   215.90     96.61510\n",
       "30 ['Forward', 'Center'] Montrezl Harrell   12.1 True   200.66    108.86208"
      ]
     },
     "metadata": {},
     "output_type": "display_data"
    }
   ],
   "source": [
    "nba %>% \n",
    "  filter(Position %in% c(\"['Center', 'Forward']\", \"['Center']\", \"['Forward', 'Center']\"),\n",
    "         Active == \"True\") %>%  \n",
    "  group_by(Position) %>% \n",
    "  slice_max(order_by = PTS, n = 10) %>% \n",
    "  select(Position, Name, PTS, Active, Height_cm, Weight_kg) %>% \n",
    "  arrange(Position, desc(PTS))\n"
   ]
  },
  {
   "cell_type": "markdown",
   "metadata": {},
   "source": [
    "We can narrow it down further to top 3 Centers:"
   ]
  },
  {
   "cell_type": "code",
   "execution_count": 45,
   "metadata": {},
   "outputs": [
    {
     "data": {
      "text/html": [
       "<table class=\"dataframe\">\n",
       "<caption>A grouped_df: 9 × 8</caption>\n",
       "<thead>\n",
       "\t<tr><th scope=col>Position</th><th scope=col>Name</th><th scope=col>PTS</th><th scope=col>Active</th><th scope=col>Height_cm</th><th scope=col>Weight_kg</th><th scope=col>G</th><th scope=col>total_pts_carrer</th></tr>\n",
       "\t<tr><th scope=col>&lt;chr&gt;</th><th scope=col>&lt;chr&gt;</th><th scope=col>&lt;dbl&gt;</th><th scope=col>&lt;chr&gt;</th><th scope=col>&lt;dbl&gt;</th><th scope=col>&lt;dbl&gt;</th><th scope=col>&lt;int&gt;</th><th scope=col>&lt;dbl&gt;</th></tr>\n",
       "</thead>\n",
       "<tbody>\n",
       "\t<tr><td>['Center', 'Forward']</td><td>Karl-Anthony Towns</td><td>23.1</td><td>True</td><td>213.36</td><td>112.4908</td><td>645</td><td>14899.5</td></tr>\n",
       "\t<tr><td>['Center', 'Forward']</td><td>Victor Wembanyama </td><td>22.5</td><td>True</td><td>220.98</td><td>106.5941</td><td>117</td><td> 2632.5</td></tr>\n",
       "\t<tr><td>['Center', 'Forward']</td><td>Nikola Jokić      </td><td>21.8</td><td>True</td><td>210.82</td><td>128.8201</td><td>745</td><td>16241.0</td></tr>\n",
       "\t<tr><td>['Center']           </td><td>Joel Embiid       </td><td>27.7</td><td>True</td><td>213.36</td><td>127.0058</td><td>452</td><td>12520.4</td></tr>\n",
       "\t<tr><td>['Center']           </td><td>Nikola Vučević    </td><td>17.2</td><td>True</td><td>208.28</td><td>117.9339</td><td>972</td><td>16718.4</td></tr>\n",
       "\t<tr><td>['Center']           </td><td>Deandre Ayton     </td><td>16.4</td><td>True</td><td>213.36</td><td>113.3980</td><td>398</td><td> 6527.2</td></tr>\n",
       "\t<tr><td>['Forward', 'Center']</td><td>Zion Williamson   </td><td>24.7</td><td>True</td><td>198.12</td><td>128.8201</td><td>214</td><td> 5285.8</td></tr>\n",
       "\t<tr><td>['Forward', 'Center']</td><td>Anthony Davis     </td><td>24.1</td><td>True</td><td>208.28</td><td>114.7588</td><td>787</td><td>18966.7</td></tr>\n",
       "\t<tr><td>['Forward', 'Center']</td><td>Kristaps Porziņģis</td><td>19.6</td><td>True</td><td>218.44</td><td>108.8621</td><td>501</td><td> 9819.6</td></tr>\n",
       "</tbody>\n",
       "</table>\n"
      ],
      "text/latex": [
       "A grouped\\_df: 9 × 8\n",
       "\\begin{tabular}{llllllll}\n",
       " Position & Name & PTS & Active & Height\\_cm & Weight\\_kg & G & total\\_pts\\_carrer\\\\\n",
       " <chr> & <chr> & <dbl> & <chr> & <dbl> & <dbl> & <int> & <dbl>\\\\\n",
       "\\hline\n",
       "\t {[}'Center', 'Forward'{]} & Karl-Anthony Towns & 23.1 & True & 213.36 & 112.4908 & 645 & 14899.5\\\\\n",
       "\t {[}'Center', 'Forward'{]} & Victor Wembanyama  & 22.5 & True & 220.98 & 106.5941 & 117 &  2632.5\\\\\n",
       "\t {[}'Center', 'Forward'{]} & Nikola Jokić       & 21.8 & True & 210.82 & 128.8201 & 745 & 16241.0\\\\\n",
       "\t {[}'Center'{]}            & Joel Embiid        & 27.7 & True & 213.36 & 127.0058 & 452 & 12520.4\\\\\n",
       "\t {[}'Center'{]}            & Nikola Vučević     & 17.2 & True & 208.28 & 117.9339 & 972 & 16718.4\\\\\n",
       "\t {[}'Center'{]}            & Deandre Ayton      & 16.4 & True & 213.36 & 113.3980 & 398 &  6527.2\\\\\n",
       "\t {[}'Forward', 'Center'{]} & Zion Williamson    & 24.7 & True & 198.12 & 128.8201 & 214 &  5285.8\\\\\n",
       "\t {[}'Forward', 'Center'{]} & Anthony Davis      & 24.1 & True & 208.28 & 114.7588 & 787 & 18966.7\\\\\n",
       "\t {[}'Forward', 'Center'{]} & Kristaps Porziņģis & 19.6 & True & 218.44 & 108.8621 & 501 &  9819.6\\\\\n",
       "\\end{tabular}\n"
      ],
      "text/markdown": [
       "\n",
       "A grouped_df: 9 × 8\n",
       "\n",
       "| Position &lt;chr&gt; | Name &lt;chr&gt; | PTS &lt;dbl&gt; | Active &lt;chr&gt; | Height_cm &lt;dbl&gt; | Weight_kg &lt;dbl&gt; | G &lt;int&gt; | total_pts_carrer &lt;dbl&gt; |\n",
       "|---|---|---|---|---|---|---|---|\n",
       "| ['Center', 'Forward'] | Karl-Anthony Towns | 23.1 | True | 213.36 | 112.4908 | 645 | 14899.5 |\n",
       "| ['Center', 'Forward'] | Victor Wembanyama  | 22.5 | True | 220.98 | 106.5941 | 117 |  2632.5 |\n",
       "| ['Center', 'Forward'] | Nikola Jokić       | 21.8 | True | 210.82 | 128.8201 | 745 | 16241.0 |\n",
       "| ['Center']            | Joel Embiid        | 27.7 | True | 213.36 | 127.0058 | 452 | 12520.4 |\n",
       "| ['Center']            | Nikola Vučević     | 17.2 | True | 208.28 | 117.9339 | 972 | 16718.4 |\n",
       "| ['Center']            | Deandre Ayton      | 16.4 | True | 213.36 | 113.3980 | 398 |  6527.2 |\n",
       "| ['Forward', 'Center'] | Zion Williamson    | 24.7 | True | 198.12 | 128.8201 | 214 |  5285.8 |\n",
       "| ['Forward', 'Center'] | Anthony Davis      | 24.1 | True | 208.28 | 114.7588 | 787 | 18966.7 |\n",
       "| ['Forward', 'Center'] | Kristaps Porziņģis | 19.6 | True | 218.44 | 108.8621 | 501 |  9819.6 |\n",
       "\n"
      ],
      "text/plain": [
       "  Position              Name               PTS  Active Height_cm Weight_kg G  \n",
       "1 ['Center', 'Forward'] Karl-Anthony Towns 23.1 True   213.36    112.4908  645\n",
       "2 ['Center', 'Forward'] Victor Wembanyama  22.5 True   220.98    106.5941  117\n",
       "3 ['Center', 'Forward'] Nikola Jokić       21.8 True   210.82    128.8201  745\n",
       "4 ['Center']            Joel Embiid        27.7 True   213.36    127.0058  452\n",
       "5 ['Center']            Nikola Vučević     17.2 True   208.28    117.9339  972\n",
       "6 ['Center']            Deandre Ayton      16.4 True   213.36    113.3980  398\n",
       "7 ['Forward', 'Center'] Zion Williamson    24.7 True   198.12    128.8201  214\n",
       "8 ['Forward', 'Center'] Anthony Davis      24.1 True   208.28    114.7588  787\n",
       "9 ['Forward', 'Center'] Kristaps Porziņģis 19.6 True   218.44    108.8621  501\n",
       "  total_pts_carrer\n",
       "1 14899.5         \n",
       "2  2632.5         \n",
       "3 16241.0         \n",
       "4 12520.4         \n",
       "5 16718.4         \n",
       "6  6527.2         \n",
       "7  5285.8         \n",
       "8 18966.7         \n",
       "9  9819.6         "
      ]
     },
     "metadata": {},
     "output_type": "display_data"
    }
   ],
   "source": [
    "nba %>% \n",
    "  filter(Position %in% c(\"['Center', 'Forward']\", \"['Center']\", \"['Forward', 'Center']\"),\n",
    "         Active == \"True\") %>%  \n",
    "  group_by(Position) %>% \n",
    "  slice_max(order_by = PTS, n = 3) %>% \n",
    "  select(Position, Name, PTS, Active, Height_cm, Weight_kg, G,total_pts_carrer) %>% \n",
    "  arrange(Position, desc(PTS))"
   ]
  },
  {
   "cell_type": "markdown",
   "metadata": {},
   "source": [
    "We observe that the top 3 Centers (including Center-Forward and Forward-Center) score way more than an average NBA Center. The top 3 are also above average in height and weight. Joel Embiid is the Center with most average points scored, while Wembanyama is the taller Center. Finally, we found that Jokić and Williamson are tied in terms of weight.\n",
    "\n",
    "Before we jump into the inference analysis, we need to do some changes first:\n",
    "\n",
    "-   Rename the variable \\`G\\` to \\`games\\`\n",
    "\n",
    "-   Create a new variable called \\`PTSCENTER\\`, which contains the average points scored by active Centers in 2025\n",
    "\n",
    "-   Change the reference category for Position variable to \"\\['Center'\\]\""
   ]
  },
  {
   "cell_type": "code",
   "execution_count": 46,
   "metadata": {},
   "outputs": [],
   "source": [
    "nba<- nba %>% \n",
    "  mutate(\n",
    "    games = G,\n",
    "    PTSCENTER = case_when(\n",
    "      Position %in% c(\"['Center', 'Forward']\", \"['Center']\", \"['Forward', 'Center']\") & Active == \"True\" ~ PTS\n",
    "    )\n",
    "  )\n",
    "\n",
    "nba <- nba %>% \n",
    "  mutate(\n",
    "    Position = relevel(factor(Position), ref = \"['Center']\")\n",
    "  )\n"
   ]
  },
  {
   "cell_type": "markdown",
   "metadata": {},
   "source": [
    "We create a new dataset for active Centers"
   ]
  },
  {
   "cell_type": "code",
   "execution_count": 47,
   "metadata": {},
   "outputs": [],
   "source": [
    "nba_centers <- nba %>%\n",
    "  filter(!is.na(PTSCENTER))"
   ]
  },
  {
   "cell_type": "markdown",
   "metadata": {},
   "source": [
    "## Inference Analysis\n",
    "\n",
    "For this part of the exercise, we estimate a linear regression model (OLS), which says as follows:\n",
    "\n",
    "$$\n",
    "AvgPointsScored_i = \\beta_0 + \\beta_1  Position_i + \\beta_2Games_i + \\beta_3Height_{cm_i} + \\beta_4 Weight_{cm_i} + \\\\ \\beta_5AvgAsist_i +  \\beta_6AvgRebounds_i + \\varepsilon_i\n",
    "$$\n",
    "\n",
    "We estimate model 1 and its fitted values"
   ]
  },
  {
   "cell_type": "code",
   "execution_count": 48,
   "metadata": {},
   "outputs": [],
   "source": [
    "m1<- lm(PTSCENTER ~ Position + games +Height_cm + Weight_kg + AST + TRB, data = nba_centers )\n",
    "\n",
    "nba_centers$fittedvalues <- predict(m1)"
   ]
  },
  {
   "cell_type": "code",
   "execution_count": 49,
   "metadata": {},
   "outputs": [
    {
     "data": {
      "text/html": [
       "",
       "<table style=\"text-align:center\"><caption><strong>Table 1: OLS</strong></caption>",
       "<tr><td colspan=\"2\" style=\"border-bottom: 1px solid black\"></td></tr><tr><td style=\"text-align:left\"></td><td><em>Dependent variable:</em></td></tr>",
       "<tr><td></td><td colspan=\"1\" style=\"border-bottom: 1px solid black\"></td></tr>",
       "<tr><td style=\"text-align:left\"></td><td>Points scored per game</td></tr>",
       "<tr><td colspan=\"2\" style=\"border-bottom: 1px solid black\"></td></tr><tr><td style=\"text-align:left\">Position [Center, Forward]</td><td>-0.10 (0.72)</td></tr>",
       "<tr><td style=\"text-align:left\">Position [Forward, Center]</td><td>1.91<sup>***</sup> (0.61)</td></tr>",
       "<tr><td style=\"text-align:left\">games</td><td>0.001 (0.001)</td></tr>",
       "<tr><td style=\"text-align:left\">Height (cm)</td><td>0.10<sup>*</sup> (0.06)</td></tr>",
       "<tr><td style=\"text-align:left\">Weight (kg)</td><td>0.01 (0.03)</td></tr>",
       "<tr><td style=\"text-align:left\">Asist per game</td><td>2.44<sup>***</sup> (0.31)</td></tr>",
       "<tr><td style=\"text-align:left\">Rebounds per game</td><td>0.93<sup>***</sup> (0.13)</td></tr>",
       "<tr><td style=\"text-align:left\">Intercept</td><td>-23.39<sup>*</sup> (12.41)</td></tr>",
       "<tr><td colspan=\"2\" style=\"border-bottom: 1px solid black\"></td></tr><tr><td style=\"text-align:left\">Observations</td><td>119</td></tr>",
       "<tr><td style=\"text-align:left\">R<sup>2</sup></td><td>0.79</td></tr>",
       "<tr><td style=\"text-align:left\">Adjusted R<sup>2</sup></td><td>0.78</td></tr>",
       "<tr><td style=\"text-align:left\">Residual Std. Error</td><td>2.53 (df = 111)</td></tr>",
       "<tr><td style=\"text-align:left\">F Statistic</td><td>60.27<sup>***</sup> (df = 7; 111)</td></tr>",
       "<tr><td colspan=\"2\" style=\"border-bottom: 1px solid black\"></td></tr><tr><td style=\"text-align:left\"><em>Note:</em></td><td style=\"text-align:right\"><sup>*</sup>p<0.1; <sup>**</sup>p<0.05; <sup>***</sup>p<0.01</td></tr>",
       "<tr><td style=\"text-align:left\"></td><td style=\"text-align:right\">Own elaboration</td></tr>",
       "</table>"
      ]
     },
     "metadata": {},
     "output_type": "display_data"
    },
    {
     "name": "stdout",
     "output_type": "stream",
     "text": [
      "\n",
      "<table style=\"text-align:center\"><caption><strong>Table 1: OLS</strong></caption>\n",
      "<tr><td colspan=\"2\" style=\"border-bottom: 1px solid black\"></td></tr><tr><td style=\"text-align:left\"></td><td><em>Dependent variable:</em></td></tr>\n",
      "<tr><td></td><td colspan=\"1\" style=\"border-bottom: 1px solid black\"></td></tr>\n",
      "<tr><td style=\"text-align:left\"></td><td>Points scored per game</td></tr>\n",
      "<tr><td colspan=\"2\" style=\"border-bottom: 1px solid black\"></td></tr><tr><td style=\"text-align:left\">Position [Center, Forward]</td><td>-0.10 (0.72)</td></tr>\n",
      "<tr><td style=\"text-align:left\">Position [Forward, Center]</td><td>1.91<sup>***</sup> (0.61)</td></tr>\n",
      "<tr><td style=\"text-align:left\">games</td><td>0.001 (0.001)</td></tr>\n",
      "<tr><td style=\"text-align:left\">Height (cm)</td><td>0.10<sup>*</sup> (0.06)</td></tr>\n",
      "<tr><td style=\"text-align:left\">Weight (kg)</td><td>0.01 (0.03)</td></tr>\n",
      "<tr><td style=\"text-align:left\">Asist per game</td><td>2.44<sup>***</sup> (0.31)</td></tr>\n",
      "<tr><td style=\"text-align:left\">Rebounds per game</td><td>0.93<sup>***</sup> (0.13)</td></tr>\n",
      "<tr><td style=\"text-align:left\">Intercept</td><td>-23.39<sup>*</sup> (12.41)</td></tr>\n",
      "<tr><td colspan=\"2\" style=\"border-bottom: 1px solid black\"></td></tr><tr><td style=\"text-align:left\">Observations</td><td>119</td></tr>\n",
      "<tr><td style=\"text-align:left\">R<sup>2</sup></td><td>0.79</td></tr>\n",
      "<tr><td style=\"text-align:left\">Adjusted R<sup>2</sup></td><td>0.78</td></tr>\n",
      "<tr><td style=\"text-align:left\">Residual Std. Error</td><td>2.53 (df = 111)</td></tr>\n",
      "<tr><td style=\"text-align:left\">F Statistic</td><td>60.27<sup>***</sup> (df = 7; 111)</td></tr>\n",
      "<tr><td colspan=\"2\" style=\"border-bottom: 1px solid black\"></td></tr><tr><td style=\"text-align:left\"><em>Note:</em></td><td style=\"text-align:right\"><sup>*</sup>p<0.1; <sup>**</sup>p<0.05; <sup>***</sup>p<0.01</td></tr>\n",
      "<tr><td style=\"text-align:left\"></td><td style=\"text-align:right\">Own elaboration</td></tr>\n",
      "</table>\n"
     ]
    }
   ],
   "source": [
    "IRdisplay::display_html(stargazer(m1,\n",
    "                                  type = \"html\",\n",
    "                                  single.row = TRUE,\n",
    "                                  digits = 2,\n",
    "                                  title = \"Table 1: OLS\",\n",
    "                                  dep.var.labels = c(\"Points scored per game\"),\n",
    "                                  covariate.labels = c(\n",
    "                                      \"Position [Center, Forward]\",\n",
    "                                      \"Position [Forward, Center]\",\n",
    "                                      \"games\",\n",
    "                                      \"Height (cm)\",\n",
    "                                      \"Weight (kg)\",\n",
    "                                      \"Asist per game\",\n",
    "                                      \"Rebounds per game\",\n",
    "                                      \"Intercept\"\n",
    "                                  ),\n",
    "                                  notes = \"Own elaboration\"))\n",
    "\n"
   ]
  },
  {
   "cell_type": "markdown",
   "metadata": {},
   "source": [
    "From the model 1 table, we observe the following:\n",
    "* \"Center-Forward\" players score, on average, 0.10 points fewer per game than pure \"Center\" players, controlling for other variables. However, this difference is not statistically significant (p > 0.05).\n",
    "* \"Forward-Center\" players score on average 1.91 points more per game than pure \"Center\" players, controlling for other variables. This difference is statistically significant at the 99% of confidence interval.\n",
    "* For each additional assist, the player’s average points per game increase by 2.44 points. This situation is statistically significant at all traditional confidence interval levels.\n",
    "* For each additional rebond, the player's average points per game increase by 0,93 points. This is statistically significant at the 99% of confidence level.\n",
    "* Others predictors, such as games, height or weight do not show statistically significant relations."
   ]
  },
  {
   "cell_type": "markdown",
   "metadata": {},
   "source": [
    "After that, we obtain the 10 highest fitted values and then we generate the plot"
   ]
  },
  {
   "cell_type": "code",
   "execution_count": 50,
   "metadata": {},
   "outputs": [
    {
     "data": {
      "text/html": [
       "<table class=\"dataframe\">\n",
       "<caption>A data.frame: 10 × 4</caption>\n",
       "<thead>\n",
       "\t<tr><th scope=col>Name</th><th scope=col>PTS</th><th scope=col>fittedvalues</th><th scope=col>Position</th></tr>\n",
       "\t<tr><th scope=col>&lt;chr&gt;</th><th scope=col>&lt;dbl&gt;</th><th scope=col>&lt;dbl&gt;</th><th scope=col>&lt;fct&gt;</th></tr>\n",
       "</thead>\n",
       "<tbody>\n",
       "\t<tr><td>Nikola Jokić      </td><td>21.8</td><td>27.67629</td><td>['Center', 'Forward']</td></tr>\n",
       "\t<tr><td>Domantas Sabonis  </td><td>16.1</td><td>21.36599</td><td>['Center', 'Forward']</td></tr>\n",
       "\t<tr><td>Victor Wembanyama </td><td>22.5</td><td>19.74089</td><td>['Center', 'Forward']</td></tr>\n",
       "\t<tr><td>Joel Embiid       </td><td>27.7</td><td>19.38460</td><td>['Center']           </td></tr>\n",
       "\t<tr><td>Julius Randle     </td><td>19.0</td><td>19.01301</td><td>['Forward', 'Center']</td></tr>\n",
       "\t<tr><td>Karl-Anthony Towns</td><td>23.1</td><td>18.13937</td><td>['Center', 'Forward']</td></tr>\n",
       "\t<tr><td>Anthony Davis     </td><td>24.1</td><td>17.89131</td><td>['Forward', 'Center']</td></tr>\n",
       "\t<tr><td>Alperen Şengün    </td><td>16.0</td><td>17.47692</td><td>['Center', 'Forward']</td></tr>\n",
       "\t<tr><td>Zion Williamson   </td><td>24.7</td><td>16.95292</td><td>['Forward', 'Center']</td></tr>\n",
       "\t<tr><td>Evan Mobley       </td><td>16.4</td><td>16.83493</td><td>['Forward', 'Center']</td></tr>\n",
       "</tbody>\n",
       "</table>\n"
      ],
      "text/latex": [
       "A data.frame: 10 × 4\n",
       "\\begin{tabular}{llll}\n",
       " Name & PTS & fittedvalues & Position\\\\\n",
       " <chr> & <dbl> & <dbl> & <fct>\\\\\n",
       "\\hline\n",
       "\t Nikola Jokić       & 21.8 & 27.67629 & {[}'Center', 'Forward'{]}\\\\\n",
       "\t Domantas Sabonis   & 16.1 & 21.36599 & {[}'Center', 'Forward'{]}\\\\\n",
       "\t Victor Wembanyama  & 22.5 & 19.74089 & {[}'Center', 'Forward'{]}\\\\\n",
       "\t Joel Embiid        & 27.7 & 19.38460 & {[}'Center'{]}           \\\\\n",
       "\t Julius Randle      & 19.0 & 19.01301 & {[}'Forward', 'Center'{]}\\\\\n",
       "\t Karl-Anthony Towns & 23.1 & 18.13937 & {[}'Center', 'Forward'{]}\\\\\n",
       "\t Anthony Davis      & 24.1 & 17.89131 & {[}'Forward', 'Center'{]}\\\\\n",
       "\t Alperen Şengün     & 16.0 & 17.47692 & {[}'Center', 'Forward'{]}\\\\\n",
       "\t Zion Williamson    & 24.7 & 16.95292 & {[}'Forward', 'Center'{]}\\\\\n",
       "\t Evan Mobley        & 16.4 & 16.83493 & {[}'Forward', 'Center'{]}\\\\\n",
       "\\end{tabular}\n"
      ],
      "text/markdown": [
       "\n",
       "A data.frame: 10 × 4\n",
       "\n",
       "| Name &lt;chr&gt; | PTS &lt;dbl&gt; | fittedvalues &lt;dbl&gt; | Position &lt;fct&gt; |\n",
       "|---|---|---|---|\n",
       "| Nikola Jokić       | 21.8 | 27.67629 | ['Center', 'Forward'] |\n",
       "| Domantas Sabonis   | 16.1 | 21.36599 | ['Center', 'Forward'] |\n",
       "| Victor Wembanyama  | 22.5 | 19.74089 | ['Center', 'Forward'] |\n",
       "| Joel Embiid        | 27.7 | 19.38460 | ['Center']            |\n",
       "| Julius Randle      | 19.0 | 19.01301 | ['Forward', 'Center'] |\n",
       "| Karl-Anthony Towns | 23.1 | 18.13937 | ['Center', 'Forward'] |\n",
       "| Anthony Davis      | 24.1 | 17.89131 | ['Forward', 'Center'] |\n",
       "| Alperen Şengün     | 16.0 | 17.47692 | ['Center', 'Forward'] |\n",
       "| Zion Williamson    | 24.7 | 16.95292 | ['Forward', 'Center'] |\n",
       "| Evan Mobley        | 16.4 | 16.83493 | ['Forward', 'Center'] |\n",
       "\n"
      ],
      "text/plain": [
       "   Name               PTS  fittedvalues Position             \n",
       "1  Nikola Jokić       21.8 27.67629     ['Center', 'Forward']\n",
       "2  Domantas Sabonis   16.1 21.36599     ['Center', 'Forward']\n",
       "3  Victor Wembanyama  22.5 19.74089     ['Center', 'Forward']\n",
       "4  Joel Embiid        27.7 19.38460     ['Center']           \n",
       "5  Julius Randle      19.0 19.01301     ['Forward', 'Center']\n",
       "6  Karl-Anthony Towns 23.1 18.13937     ['Center', 'Forward']\n",
       "7  Anthony Davis      24.1 17.89131     ['Forward', 'Center']\n",
       "8  Alperen Şengün     16.0 17.47692     ['Center', 'Forward']\n",
       "9  Zion Williamson    24.7 16.95292     ['Forward', 'Center']\n",
       "10 Evan Mobley        16.4 16.83493     ['Forward', 'Center']"
      ]
     },
     "metadata": {},
     "output_type": "display_data"
    }
   ],
   "source": [
    "nba_centers %>% \n",
    "  select(Name, PTS, fittedvalues, Position) %>% \n",
    "  slice_max(order_by = fittedvalues, n = 10) \n"
   ]
  },
  {
   "cell_type": "markdown",
   "metadata": {},
   "source": [
    "For our predictions, we found that Jokić had the highest fitted value with 27 points. We also observe that Center-Forward had higher values than other combinations."
   ]
  },
  {
   "cell_type": "code",
   "execution_count": 51,
   "metadata": {},
   "outputs": [
    {
     "data": {
      "image/png": "[encoded data removed]",
      "text/plain": [
       "plot without title"
      ]
     },
     "metadata": {
      "image/png": {
       "height": 420,
       "width": 420
      }
     },
     "output_type": "display_data"
    }
   ],
   "source": [
    "nba_centers %>%\n",
    "  ggplot(aes(x = fittedvalues, y = PTS)) +\n",
    "  geom_point(alpha = 0.6, color = \"steelblue\") +\n",
    "  geom_abline(slope = 1, intercept = 0, linetype = \"dashed\", color = \"red\") +\n",
    "  labs(\n",
    "    title = \"Comparación entre puntos reales y predichos\",\n",
    "    x = \"Puntos predichos (fittedvalues)\",\n",
    "    y = \"Puntos reales (PTS)\"\n",
    "  ) +\n",
    "  theme_bw()"
   ]
  },
  {
   "cell_type": "markdown",
   "metadata": {},
   "source": [
    "## Logit Model\n",
    "\n",
    "For this part, we estimate a logit model. First things first, we obtain the average rebounds from the entire sample. Then we get the max and min rebounds values."
   ]
  },
  {
   "cell_type": "code",
   "execution_count": 52,
   "metadata": {},
   "outputs": [
    {
     "data": {
      "text/html": [
       "<table class=\"dataframe\">\n",
       "<caption>A data.frame: 1 × 3</caption>\n",
       "<thead>\n",
       "\t<tr><th scope=col>avg_rb</th><th scope=col>max</th><th scope=col>min</th></tr>\n",
       "\t<tr><th scope=col>&lt;dbl&gt;</th><th scope=col>&lt;dbl&gt;</th><th scope=col>&lt;dbl&gt;</th></tr>\n",
       "</thead>\n",
       "<tbody>\n",
       "\t<tr><td>5.872269</td><td>12.1</td><td>0.4</td></tr>\n",
       "</tbody>\n",
       "</table>\n"
      ],
      "text/latex": [
       "A data.frame: 1 × 3\n",
       "\\begin{tabular}{lll}\n",
       " avg\\_rb & max & min\\\\\n",
       " <dbl> & <dbl> & <dbl>\\\\\n",
       "\\hline\n",
       "\t 5.872269 & 12.1 & 0.4\\\\\n",
       "\\end{tabular}\n"
      ],
      "text/markdown": [
       "\n",
       "A data.frame: 1 × 3\n",
       "\n",
       "| avg_rb &lt;dbl&gt; | max &lt;dbl&gt; | min &lt;dbl&gt; |\n",
       "|---|---|---|\n",
       "| 5.872269 | 12.1 | 0.4 |\n",
       "\n"
      ],
      "text/plain": [
       "  avg_rb   max  min\n",
       "1 5.872269 12.1 0.4"
      ]
     },
     "metadata": {},
     "output_type": "display_data"
    }
   ],
   "source": [
    "nba_centers %>% \n",
    "  summarise(\n",
    "    avg_rb = mean(TRB),\n",
    "    max = max(TRB),\n",
    "    min = min(TRB)\n",
    "  )"
   ]
  },
  {
   "cell_type": "markdown",
   "metadata": {},
   "source": [
    "In the following step, we create a new variable called \\`rb_dummy\\` in which returns 1 if the player have an average of 6 or greater rebounds per game, and 0 if the total rebounds are less than 6."
   ]
  },
  {
   "cell_type": "code",
   "execution_count": 53,
   "metadata": {},
   "outputs": [],
   "source": [
    "nba_centers <- nba_centers %>% \n",
    "  mutate(\n",
    "    rb_dummy = case_when(\n",
    "      TRB >= 6 ~ 1,\n",
    "      TRB < 6 ~ 0\n",
    "    )\n",
    "  )"
   ]
  },
  {
   "cell_type": "markdown",
   "metadata": {},
   "source": [
    "We estimate the logit model"
   ]
  },
  {
   "cell_type": "code",
   "execution_count": 54,
   "metadata": {},
   "outputs": [],
   "source": [
    "m2<- glm(rb_dummy ~  PTSCENTER + Position + games +Height_cm + Weight_kg + AST, data = nba_centers,\n",
    "         family = binomial (link = \"logit\") )"
   ]
  },
  {
   "cell_type": "code",
   "execution_count": 55,
   "metadata": {},
   "outputs": [
    {
     "data": {
      "text/html": [
       "",
       "<table style=\"text-align:center\"><caption><strong>Table 2: Log-odds</strong></caption>",
       "<tr><td colspan=\"2\" style=\"border-bottom: 1px solid black\"></td></tr><tr><td style=\"text-align:left\"></td><td><em>Dependent variable:</em></td></tr>",
       "<tr><td></td><td colspan=\"1\" style=\"border-bottom: 1px solid black\"></td></tr>",
       "<tr><td style=\"text-align:left\"></td><td>Points scored per game</td></tr>",
       "<tr><td colspan=\"2\" style=\"border-bottom: 1px solid black\"></td></tr><tr><td style=\"text-align:left\">Position [Center, Forward]</td><td>0.69<sup>***</sup> (0.19)</td></tr>",
       "<tr><td style=\"text-align:left\">Position [Forward, Center]</td><td>-1.65 (1.04)</td></tr>",
       "<tr><td style=\"text-align:left\">games</td><td>-1.65<sup>*</sup> (0.90)</td></tr>",
       "<tr><td style=\"text-align:left\">Height (cm)</td><td>-0.001 (0.001)</td></tr>",
       "<tr><td style=\"text-align:left\">Weight (kg)</td><td>-0.03 (0.10)</td></tr>",
       "<tr><td style=\"text-align:left\">Asist per game</td><td>0.08 (0.05)</td></tr>",
       "<tr><td style=\"text-align:left\">Rebounds per game</td><td>2.12<sup>**</sup> (0.87)</td></tr>",
       "<tr><td style=\"text-align:left\">Intercept</td><td>-9.46 (19.15)</td></tr>",
       "<tr><td colspan=\"2\" style=\"border-bottom: 1px solid black\"></td></tr><tr><td style=\"text-align:left\">Observations</td><td>119</td></tr>",
       "<tr><td style=\"text-align:left\">Log Likelihood</td><td>-29.87</td></tr>",
       "<tr><td style=\"text-align:left\">Akaike Inf. Crit.</td><td>75.73</td></tr>",
       "<tr><td colspan=\"2\" style=\"border-bottom: 1px solid black\"></td></tr><tr><td style=\"text-align:left\"><em>Note:</em></td><td style=\"text-align:right\"><sup>*</sup>p<0.1; <sup>**</sup>p<0.05; <sup>***</sup>p<0.01</td></tr>",
       "<tr><td style=\"text-align:left\"></td><td style=\"text-align:right\">Own elaboration</td></tr>",
       "</table>"
      ]
     },
     "metadata": {},
     "output_type": "display_data"
    },
    {
     "name": "stdout",
     "output_type": "stream",
     "text": [
      "\n",
      "<table style=\"text-align:center\"><caption><strong>Table 2: Log-odds</strong></caption>\n",
      "<tr><td colspan=\"2\" style=\"border-bottom: 1px solid black\"></td></tr><tr><td style=\"text-align:left\"></td><td><em>Dependent variable:</em></td></tr>\n",
      "<tr><td></td><td colspan=\"1\" style=\"border-bottom: 1px solid black\"></td></tr>\n",
      "<tr><td style=\"text-align:left\"></td><td>Points scored per game</td></tr>\n",
      "<tr><td colspan=\"2\" style=\"border-bottom: 1px solid black\"></td></tr><tr><td style=\"text-align:left\">Position [Center, Forward]</td><td>0.69<sup>***</sup> (0.19)</td></tr>\n",
      "<tr><td style=\"text-align:left\">Position [Forward, Center]</td><td>-1.65 (1.04)</td></tr>\n",
      "<tr><td style=\"text-align:left\">games</td><td>-1.65<sup>*</sup> (0.90)</td></tr>\n",
      "<tr><td style=\"text-align:left\">Height (cm)</td><td>-0.001 (0.001)</td></tr>\n",
      "<tr><td style=\"text-align:left\">Weight (kg)</td><td>-0.03 (0.10)</td></tr>\n",
      "<tr><td style=\"text-align:left\">Asist per game</td><td>0.08 (0.05)</td></tr>\n",
      "<tr><td style=\"text-align:left\">Rebounds per game</td><td>2.12<sup>**</sup> (0.87)</td></tr>\n",
      "<tr><td style=\"text-align:left\">Intercept</td><td>-9.46 (19.15)</td></tr>\n",
      "<tr><td colspan=\"2\" style=\"border-bottom: 1px solid black\"></td></tr><tr><td style=\"text-align:left\">Observations</td><td>119</td></tr>\n",
      "<tr><td style=\"text-align:left\">Log Likelihood</td><td>-29.87</td></tr>\n",
      "<tr><td style=\"text-align:left\">Akaike Inf. Crit.</td><td>75.73</td></tr>\n",
      "<tr><td colspan=\"2\" style=\"border-bottom: 1px solid black\"></td></tr><tr><td style=\"text-align:left\"><em>Note:</em></td><td style=\"text-align:right\"><sup>*</sup>p<0.1; <sup>**</sup>p<0.05; <sup>***</sup>p<0.01</td></tr>\n",
      "<tr><td style=\"text-align:left\"></td><td style=\"text-align:right\">Own elaboration</td></tr>\n",
      "</table>\n"
     ]
    }
   ],
   "source": [
    "\n",
    "IRdisplay::display_html(stargazer(m2,\n",
    "                                  type = \"html\",\n",
    "                                  single.row = TRUE,\n",
    "                                  digits = 2,\n",
    "                                  title = \"Table 2: Log-odds\",\n",
    "                                  dep.var.labels = c(\"Good rebounder\"),\n",
    "                                  covariate.labels = c(\n",
    "                                      \"Position [Center, Forward]\",\n",
    "                                      \"Position [Forward, Center]\",\n",
    "                                      \"games\",\n",
    "                                      \"Height (cm)\",\n",
    "                                      \"Weight (kg)\",\n",
    "                                      \"Asist per game\",\n",
    "                                      \"Rebounds per game\",\n",
    "                                      \"Intercept\"\n",
    "                                  ),\n",
    "                                  notes = \"Own elaboration\"))"
   ]
  },
  {
   "cell_type": "markdown",
   "metadata": {},
   "source": [
    "From the model 2 table, we observe the following:\n",
    "* For each additional point scored by a center, the odds of being a good assister increase by a factor of 1.99.\n",
    "* This situation is statistically significant at all traditional confidence interval levels.\n",
    "* Others preddictos, such as Position, games, height, weight, "
   ]
  },
  {
   "cell_type": "markdown",
   "metadata": {},
   "source": [
    "## Multilevel model (MEM)\n",
    "\n",
    "Finally, we estimate a multilevel model. In this part, we expand the sample to include all positions and players in the data base whether actives or not. Lastly, for the level-2 variables, we select the top 5 schools with the highest players in order to simplify the exercise."
   ]
  },
  {
   "cell_type": "code",
   "execution_count": 56,
   "metadata": {},
   "outputs": [
    {
     "data": {
      "text/html": [
       "<table class=\"dataframe\">\n",
       "<caption>A data.frame: 5 × 2</caption>\n",
       "<thead>\n",
       "\t<tr><th scope=col>School</th><th scope=col>n</th></tr>\n",
       "\t<tr><th scope=col>&lt;chr&gt;</th><th scope=col>&lt;int&gt;</th></tr>\n",
       "</thead>\n",
       "<tbody>\n",
       "\t<tr><td>street      </td><td>327</td></tr>\n",
       "\t<tr><td>['Kentucky']</td><td> 89</td></tr>\n",
       "\t<tr><td>['Duke']    </td><td> 77</td></tr>\n",
       "\t<tr><td>['UCLA']    </td><td> 75</td></tr>\n",
       "\t<tr><td>['UNC']     </td><td> 74</td></tr>\n",
       "</tbody>\n",
       "</table>\n"
      ],
      "text/latex": [
       "A data.frame: 5 × 2\n",
       "\\begin{tabular}{ll}\n",
       " School & n\\\\\n",
       " <chr> & <int>\\\\\n",
       "\\hline\n",
       "\t street       & 327\\\\\n",
       "\t {[}'Kentucky'{]} &  89\\\\\n",
       "\t {[}'Duke'{]}     &  77\\\\\n",
       "\t {[}'UCLA'{]}     &  75\\\\\n",
       "\t {[}'UNC'{]}      &  74\\\\\n",
       "\\end{tabular}\n"
      ],
      "text/markdown": [
       "\n",
       "A data.frame: 5 × 2\n",
       "\n",
       "| School &lt;chr&gt; | n &lt;int&gt; |\n",
       "|---|---|\n",
       "| street       | 327 |\n",
       "| ['Kentucky'] |  89 |\n",
       "| ['Duke']     |  77 |\n",
       "| ['UCLA']     |  75 |\n",
       "| ['UNC']      |  74 |\n",
       "\n"
      ],
      "text/plain": [
       "  School       n  \n",
       "1 street       327\n",
       "2 ['Kentucky']  89\n",
       "3 ['Duke']      77\n",
       "4 ['UCLA']      75\n",
       "5 ['UNC']       74"
      ]
     },
     "metadata": {},
     "output_type": "display_data"
    }
   ],
   "source": [
    "nba<- nba %>% \n",
    "  mutate(\n",
    "    CENTERS = Position %in% c(\"['Center', 'Forward']\", \"['Center']\", \"['Forward', 'Center']\")\n",
    "    )\n",
    "  \n",
    "top5_schools <- nba %>%\n",
    "  count(School, sort = TRUE) %>%\n",
    "  slice_max(n, n = 5) %>%\n",
    "  pull(School)\n",
    "  \n",
    " \n",
    "\n",
    "nba_top5_schools <- nba %>% \n",
    "  filter(School %in% top5_schools) \n",
    "\n",
    "nba_top5_schools %>% \n",
    "  count(School, sort = T)"
   ]
  },
  {
   "cell_type": "markdown",
   "metadata": {},
   "source": [
    "## Centering\n",
    "\n",
    "Our interest is to\n"
   ]
  },
  {
   "cell_type": "code",
   "execution_count": 57,
   "metadata": {},
   "outputs": [],
   "source": [
    "nba_top5_schools$games_cgm <- center(nba_top5_schools$games, type = \"CGM\")\n",
    "nba_top5_schools$Height_cm_cgm <- center(nba_top5_schools$Height_cm, type = \"CGM\")\n",
    "nba_top5_schools$Weight_kg_cgm <- center(nba_top5_schools$Weight_kg, type = \"CGM\")\n",
    "nba_top5_schools$AST_cgm <- center(nba_top5_schools$AST, type = \"CGM\")\n",
    "nba_top5_schools$TRB_cgm <- center(nba_top5_schools$TRB, type = \"CGM\")\n",
    "\n",
    "nba_top5_schools <- nba_top5_schools %>%\n",
    "  filter(Position %in% c(\"['Center']\", \"['Center', 'Forward']\", \"['Forward', 'Center']\"))"
   ]
  },
  {
   "cell_type": "markdown",
   "metadata": {},
   "source": [
    "We estimate three models. First, the"
   ]
  },
  {
   "cell_type": "code",
   "execution_count": 58,
   "metadata": {},
   "outputs": [
    {
     "name": "stderr",
     "output_type": "stream",
     "text": [
      "boundary (singular) fit: see help('isSingular')\n",
      "\n",
      "boundary (singular) fit: see help('isSingular')\n",
      "\n"
     ]
    },
    {
     "data": {
      "text/html": [
       "<span style=white-space:pre-wrap>'\\n===========================================================================================\\n                                 Model 1             Model 2             Model 3           \\n-------------------------------------------------------------------------------------------\\n(Intercept)                         8.89 (0.73) ***     5.26 (0.67) ***     5.09 (0.67) ***\\nPosition[\\'Center\\', \\'Forward\\']                           0.64 (0.56)         0.50 (0.56)    \\nPosition[\\'Forward\\', \\'Center\\']                           1.57 (0.48) **      1.58 (0.47) ***\\ngames_cgm                                               0.00 (0.00) *       0.00 (0.00) *  \\nHeight_cm_cgm                                           0.12 (0.04) **      0.13 (0.04) ** \\nWeight_kg_cgm                                           0.02 (0.02)         0.02 (0.02)    \\nAST_cgm                                                 1.90 (0.25) ***     1.85 (0.25) ***\\nTRB_cgm                                                 1.09 (0.11) ***     1.16 (0.14) ***\\n-------------------------------------------------------------------------------------------\\nAIC                              1154.21              882.39              882.81           \\nBIC                              1163.82              914.43              921.26           \\nLog Likelihood                   -574.11             -431.19             -429.40           \\nNum. obs.                         182                 182                 182              \\nNum. groups: School                 5                   5                   5              \\nVar: School (Intercept)             1.36                0.00                0.00           \\nVar: Residual                      31.85                5.97                5.71           \\nVar: School TRB_cgm                                                         0.04           \\nCov: School (Intercept) TRB_cgm                                             0.00           \\n===========================================================================================\\n*** p &lt; 0.001; ** p &lt; 0.01; * p &lt; 0.05\\n'</span>"
      ],
      "text/latex": [
       "'\\textbackslash{}n===========================================================================================\\textbackslash{}n                                 Model 1             Model 2             Model 3           \\textbackslash{}n-------------------------------------------------------------------------------------------\\textbackslash{}n(Intercept)                         8.89 (0.73) ***     5.26 (0.67) ***     5.09 (0.67) ***\\textbackslash{}nPosition{[}\\textbackslash{}'Center\\textbackslash{}', \\textbackslash{}'Forward\\textbackslash{}'{]}                           0.64 (0.56)         0.50 (0.56)    \\textbackslash{}nPosition{[}\\textbackslash{}'Forward\\textbackslash{}', \\textbackslash{}'Center\\textbackslash{}'{]}                           1.57 (0.48) **      1.58 (0.47) ***\\textbackslash{}ngames\\_cgm                                               0.00 (0.00) *       0.00 (0.00) *  \\textbackslash{}nHeight\\_cm\\_cgm                                           0.12 (0.04) **      0.13 (0.04) ** \\textbackslash{}nWeight\\_kg\\_cgm                                           0.02 (0.02)         0.02 (0.02)    \\textbackslash{}nAST\\_cgm                                                 1.90 (0.25) ***     1.85 (0.25) ***\\textbackslash{}nTRB\\_cgm                                                 1.09 (0.11) ***     1.16 (0.14) ***\\textbackslash{}n-------------------------------------------------------------------------------------------\\textbackslash{}nAIC                              1154.21              882.39              882.81           \\textbackslash{}nBIC                              1163.82              914.43              921.26           \\textbackslash{}nLog Likelihood                   -574.11             -431.19             -429.40           \\textbackslash{}nNum. obs.                         182                 182                 182              \\textbackslash{}nNum. groups: School                 5                   5                   5              \\textbackslash{}nVar: School (Intercept)             1.36                0.00                0.00           \\textbackslash{}nVar: Residual                      31.85                5.97                5.71           \\textbackslash{}nVar: School TRB\\_cgm                                                         0.04           \\textbackslash{}nCov: School (Intercept) TRB\\_cgm                                             0.00           \\textbackslash{}n===========================================================================================\\textbackslash{}n*** p < 0.001; ** p < 0.01; * p < 0.05\\textbackslash{}n'"
      ],
      "text/markdown": [
       "<span style=white-space:pre-wrap>'\\n===========================================================================================\\n                                 Model 1             Model 2             Model 3           \\n-------------------------------------------------------------------------------------------\\n(Intercept)                         8.89 (0.73) ***     5.26 (0.67) ***     5.09 (0.67) ***\\nPosition[\\'Center\\', \\'Forward\\']                           0.64 (0.56)         0.50 (0.56)    \\nPosition[\\'Forward\\', \\'Center\\']                           1.57 (0.48) **      1.58 (0.47) ***\\ngames_cgm                                               0.00 (0.00) *       0.00 (0.00) *  \\nHeight_cm_cgm                                           0.12 (0.04) **      0.13 (0.04) ** \\nWeight_kg_cgm                                           0.02 (0.02)         0.02 (0.02)    \\nAST_cgm                                                 1.90 (0.25) ***     1.85 (0.25) ***\\nTRB_cgm                                                 1.09 (0.11) ***     1.16 (0.14) ***\\n-------------------------------------------------------------------------------------------\\nAIC                              1154.21              882.39              882.81           \\nBIC                              1163.82              914.43              921.26           \\nLog Likelihood                   -574.11             -431.19             -429.40           \\nNum. obs.                         182                 182                 182              \\nNum. groups: School                 5                   5                   5              \\nVar: School (Intercept)             1.36                0.00                0.00           \\nVar: Residual                      31.85                5.97                5.71           \\nVar: School TRB_cgm                                                         0.04           \\nCov: School (Intercept) TRB_cgm                                             0.00           \\n===========================================================================================\\n*** p &lt; 0.001; ** p &lt; 0.01; * p &lt; 0.05\\n'</span>"
      ],
      "text/plain": [
       "\n",
       "===========================================================================================\n",
       "                                 Model 1             Model 2             Model 3           \n",
       "-------------------------------------------------------------------------------------------\n",
       "(Intercept)                         8.89 (0.73) ***     5.26 (0.67) ***     5.09 (0.67) ***\n",
       "Position['Center', 'Forward']                           0.64 (0.56)         0.50 (0.56)    \n",
       "Position['Forward', 'Center']                           1.57 (0.48) **      1.58 (0.47) ***\n",
       "games_cgm                                               0.00 (0.00) *       0.00 (0.00) *  \n",
       "Height_cm_cgm                                           0.12 (0.04) **      0.13 (0.04) ** \n",
       "Weight_kg_cgm                                           0.02 (0.02)         0.02 (0.02)    \n",
       "AST_cgm                                                 1.90 (0.25) ***     1.85 (0.25) ***\n",
       "TRB_cgm                                                 1.09 (0.11) ***     1.16 (0.14) ***\n",
       "-------------------------------------------------------------------------------------------\n",
       "AIC                              1154.21              882.39              882.81           \n",
       "BIC                              1163.82              914.43              921.26           \n",
       "Log Likelihood                   -574.11             -431.19             -429.40           \n",
       "Num. obs.                         182                 182                 182              \n",
       "Num. groups: School                 5                   5                   5              \n",
       "Var: School (Intercept)             1.36                0.00                0.00           \n",
       "Var: Residual                      31.85                5.97                5.71           \n",
       "Var: School TRB_cgm                                                         0.04           \n",
       "Cov: School (Intercept) TRB_cgm                                             0.00           \n",
       "===========================================================================================\n",
       "*** p < 0.001; ** p < 0.01; * p < 0.05"
      ]
     },
     "metadata": {},
     "output_type": "display_data"
    }
   ],
   "source": [
    "mnulo<- lmer(PTS ~ 1 + (1|School), data = nba_top5_schools)\n",
    "\n",
    "m3<- lmer(PTS ~ Position + games_cgm + Height_cm_cgm + Weight_kg_cgm + AST_cgm + TRB_cgm + (1|School)  , data = nba_top5_schools)\n",
    "\n",
    "\n",
    "m4<- lmer(PTS ~ Position + games_cgm + Height_cm_cgm + Weight_kg_cgm + AST_cgm + TRB_cgm + (TRB_cgm|School)  , data = nba_top5_schools)\n",
    "screenreg(list(mnulo,m3, m4), single.row = T)"
   ]
  },
  {
   "cell_type": "code",
   "execution_count": 69,
   "metadata": {},
   "outputs": [
    {
     "data": {
      "text/html": [
       "",
       "<table style=\"text-align:center\"><caption><strong>Table 2: Log-odds</strong></caption>",
       "<tr><td colspan=\"4\" style=\"border-bottom: 1px solid black\"></td></tr><tr><td style=\"text-align:left\"></td><td colspan=\"3\"><em>Dependent variable:</em></td></tr>",
       "<tr><td></td><td colspan=\"3\" style=\"border-bottom: 1px solid black\"></td></tr>",
       "<tr><td style=\"text-align:left\"></td><td colspan=\"3\">Points scored per game</td></tr>",
       "<tr><td style=\"text-align:left\"></td><td>(1)</td><td>(2)</td><td>(3)</td></tr>",
       "<tr><td colspan=\"4\" style=\"border-bottom: 1px solid black\"></td></tr><tr><td style=\"text-align:left\">Position [Center, Forward]</td><td></td><td>0.64 (0.56)</td><td>0.50 (0.56)</td></tr>",
       "<tr><td style=\"text-align:left\">Position [Forward, Center]</td><td></td><td>1.57<sup>***</sup> (0.48)</td><td>1.58<sup>***</sup> (0.47)</td></tr>",
       "<tr><td style=\"text-align:left\">games (grand mean)</td><td></td><td>0.001<sup>**</sup> (0.001)</td><td>0.002<sup>**</sup> (0.001)</td></tr>",
       "<tr><td style=\"text-align:left\">Height (cm)(grand mean)</td><td></td><td>0.12<sup>***</sup> (0.04)</td><td>0.13<sup>***</sup> (0.04)</td></tr>",
       "<tr><td style=\"text-align:left\">Weight (kg)(grand mean)</td><td></td><td>0.02 (0.02)</td><td>0.02 (0.02)</td></tr>",
       "<tr><td style=\"text-align:left\">Asist per game (grand mean)</td><td></td><td>1.90<sup>***</sup> (0.25)</td><td>1.85<sup>***</sup> (0.25)</td></tr>",
       "<tr><td style=\"text-align:left\">Rebounds per game (grand mean)</td><td></td><td>1.09<sup>***</sup> (0.11)</td><td>1.16<sup>***</sup> (0.14)</td></tr>",
       "<tr><td style=\"text-align:left\">Intercept</td><td>8.89<sup>***</sup> (0.73)</td><td>5.26<sup>***</sup> (0.67)</td><td>5.09<sup>***</sup> (0.67)</td></tr>",
       "<tr><td colspan=\"4\" style=\"border-bottom: 1px solid black\"></td></tr><tr><td style=\"text-align:left\">Observations</td><td>182</td><td>182</td><td>182</td></tr>",
       "<tr><td style=\"text-align:left\">Log Likelihood</td><td>-574.11</td><td>-431.19</td><td>-429.40</td></tr>",
       "<tr><td style=\"text-align:left\">Akaike Inf. Crit.</td><td>1,154.21</td><td>882.39</td><td>882.81</td></tr>",
       "<tr><td style=\"text-align:left\">Bayesian Inf. Crit.</td><td>1,163.82</td><td>914.43</td><td>921.26</td></tr>",
       "<tr><td colspan=\"4\" style=\"border-bottom: 1px solid black\"></td></tr><tr><td style=\"text-align:left\"><em>Note:</em></td><td colspan=\"3\" style=\"text-align:right\"><sup>*</sup>p<0.1; <sup>**</sup>p<0.05; <sup>***</sup>p<0.01</td></tr>",
       "<tr><td style=\"text-align:left\"></td><td colspan=\"3\" style=\"text-align:right\">Own elaboration</td></tr>",
       "</table>"
      ]
     },
     "metadata": {},
     "output_type": "display_data"
    },
    {
     "name": "stdout",
     "output_type": "stream",
     "text": [
      "\n",
      "<table style=\"text-align:center\"><caption><strong>Table 2: Log-odds</strong></caption>\n",
      "<tr><td colspan=\"4\" style=\"border-bottom: 1px solid black\"></td></tr><tr><td style=\"text-align:left\"></td><td colspan=\"3\"><em>Dependent variable:</em></td></tr>\n",
      "<tr><td></td><td colspan=\"3\" style=\"border-bottom: 1px solid black\"></td></tr>\n",
      "<tr><td style=\"text-align:left\"></td><td colspan=\"3\">Points scored per game</td></tr>\n",
      "<tr><td style=\"text-align:left\"></td><td>(1)</td><td>(2)</td><td>(3)</td></tr>\n",
      "<tr><td colspan=\"4\" style=\"border-bottom: 1px solid black\"></td></tr><tr><td style=\"text-align:left\">Position [Center, Forward]</td><td></td><td>0.64 (0.56)</td><td>0.50 (0.56)</td></tr>\n",
      "<tr><td style=\"text-align:left\">Position [Forward, Center]</td><td></td><td>1.57<sup>***</sup> (0.48)</td><td>1.58<sup>***</sup> (0.47)</td></tr>\n",
      "<tr><td style=\"text-align:left\">games (grand mean)</td><td></td><td>0.001<sup>**</sup> (0.001)</td><td>0.002<sup>**</sup> (0.001)</td></tr>\n",
      "<tr><td style=\"text-align:left\">Height (cm)(grand mean)</td><td></td><td>0.12<sup>***</sup> (0.04)</td><td>0.13<sup>***</sup> (0.04)</td></tr>\n",
      "<tr><td style=\"text-align:left\">Weight (kg)(grand mean)</td><td></td><td>0.02 (0.02)</td><td>0.02 (0.02)</td></tr>\n",
      "<tr><td style=\"text-align:left\">Asist per game (grand mean)</td><td></td><td>1.90<sup>***</sup> (0.25)</td><td>1.85<sup>***</sup> (0.25)</td></tr>\n",
      "<tr><td style=\"text-align:left\">Rebounds per game (grand mean)</td><td></td><td>1.09<sup>***</sup> (0.11)</td><td>1.16<sup>***</sup> (0.14)</td></tr>\n",
      "<tr><td style=\"text-align:left\">Intercept</td><td>8.89<sup>***</sup> (0.73)</td><td>5.26<sup>***</sup> (0.67)</td><td>5.09<sup>***</sup> (0.67)</td></tr>\n",
      "<tr><td colspan=\"4\" style=\"border-bottom: 1px solid black\"></td></tr><tr><td style=\"text-align:left\">Observations</td><td>182</td><td>182</td><td>182</td></tr>\n",
      "<tr><td style=\"text-align:left\">Log Likelihood</td><td>-574.11</td><td>-431.19</td><td>-429.40</td></tr>\n",
      "<tr><td style=\"text-align:left\">Akaike Inf. Crit.</td><td>1,154.21</td><td>882.39</td><td>882.81</td></tr>\n",
      "<tr><td style=\"text-align:left\">Bayesian Inf. Crit.</td><td>1,163.82</td><td>914.43</td><td>921.26</td></tr>\n",
      "<tr><td colspan=\"4\" style=\"border-bottom: 1px solid black\"></td></tr><tr><td style=\"text-align:left\"><em>Note:</em></td><td colspan=\"3\" style=\"text-align:right\"><sup>*</sup>p<0.1; <sup>**</sup>p<0.05; <sup>***</sup>p<0.01</td></tr>\n",
      "<tr><td style=\"text-align:left\"></td><td colspan=\"3\" style=\"text-align:right\">Own elaboration</td></tr>\n",
      "</table>\n"
     ]
    }
   ],
   "source": [
    "IRdisplay::display_html(stargazer(mnulo,m3,m4,\n",
    "                                  type = \"html\",\n",
    "                                  single.row = TRUE,\n",
    "                                  digits = 2,\n",
    "                                  title = \"Table 2: Log-odds\",\n",
    "                                  dep.var.labels = c(\"Points scored per game\"),\n",
    "                                  covariate.labels = c(\n",
    "                                      \"Position [Center, Forward]\",\n",
    "                                      \"Position [Forward, Center]\",\n",
    "                                      \"games (grand mean)\",\n",
    "                                      \"Height (cm)(grand mean)\",\n",
    "                                      \"Weight (kg)(grand mean)\",\n",
    "                                      \"Asist per game (grand mean)\",\n",
    "                                      \"Rebounds per game (grand mean)\",\n",
    "                                      \"Intercept\"\n",
    "                                  ),\n",
    "                                  notes = \"Own elaboration\"))"
   ]
  },
  {
   "cell_type": "markdown",
   "metadata": {},
   "source": [
    "Now we calculate the ICC\n"
   ]
  },
  {
   "cell_type": "code",
   "execution_count": 59,
   "metadata": {},
   "outputs": [
    {
     "name": "stdout",
     "output_type": "stream",
     "text": [
      "[1] 3.07438\n"
     ]
    }
   ],
   "source": [
    "ICC = 0.93/(0.93+29.32) * 100\n",
    "print(ICC)\n"
   ]
  },
  {
   "cell_type": "markdown",
   "metadata": {},
   "source": [
    "The ICC (Intra-class Correlation Coeficient) reveals that only 3% of the variance in our dependent variable is explained by the nesting structure. Despite the low ICC value, we will continue using multilevel models as it aligns with the objectives of this project. Now, we will continue with an \n",
    "ANOVA test to compare a model with and without random coefficient."
   ]
  },
  {
   "cell_type": "code",
   "execution_count": 60,
   "metadata": {},
   "outputs": [
    {
     "name": "stderr",
     "output_type": "stream",
     "text": [
      "refitting model(s) with ML (instead of REML)\n",
      "\n"
     ]
    },
    {
     "data": {
      "text/html": [
       "<table class=\"dataframe\">\n",
       "<caption>A anova: 2 × 8</caption>\n",
       "<thead>\n",
       "\t<tr><th></th><th scope=col>npar</th><th scope=col>AIC</th><th scope=col>BIC</th><th scope=col>logLik</th><th scope=col>-2*log(L)</th><th scope=col>Chisq</th><th scope=col>Df</th><th scope=col>Pr(&gt;Chisq)</th></tr>\n",
       "\t<tr><th></th><th scope=col>&lt;dbl&gt;</th><th scope=col>&lt;dbl&gt;</th><th scope=col>&lt;dbl&gt;</th><th scope=col>&lt;dbl&gt;</th><th scope=col>&lt;dbl&gt;</th><th scope=col>&lt;dbl&gt;</th><th scope=col>&lt;dbl&gt;</th><th scope=col>&lt;dbl&gt;</th></tr>\n",
       "</thead>\n",
       "<tbody>\n",
       "\t<tr><th scope=row>m3</th><td>10</td><td>853.3820</td><td>885.4221</td><td>-416.6910</td><td>833.3820</td><td>      NA</td><td>NA</td><td>       NA</td></tr>\n",
       "\t<tr><th scope=row>m4</th><td>12</td><td>854.9236</td><td>893.3717</td><td>-415.4618</td><td>830.9236</td><td>2.458411</td><td> 2</td><td>0.2925249</td></tr>\n",
       "</tbody>\n",
       "</table>\n"
      ],
      "text/latex": [
       "A anova: 2 × 8\n",
       "\\begin{tabular}{r|llllllll}\n",
       "  & npar & AIC & BIC & logLik & -2*log(L) & Chisq & Df & Pr(>Chisq)\\\\\n",
       "  & <dbl> & <dbl> & <dbl> & <dbl> & <dbl> & <dbl> & <dbl> & <dbl>\\\\\n",
       "\\hline\n",
       "\tm3 & 10 & 853.3820 & 885.4221 & -416.6910 & 833.3820 &       NA & NA &        NA\\\\\n",
       "\tm4 & 12 & 854.9236 & 893.3717 & -415.4618 & 830.9236 & 2.458411 &  2 & 0.2925249\\\\\n",
       "\\end{tabular}\n"
      ],
      "text/markdown": [
       "\n",
       "A anova: 2 × 8\n",
       "\n",
       "| <!--/--> | npar &lt;dbl&gt; | AIC &lt;dbl&gt; | BIC &lt;dbl&gt; | logLik &lt;dbl&gt; | -2*log(L) &lt;dbl&gt; | Chisq &lt;dbl&gt; | Df &lt;dbl&gt; | Pr(&gt;Chisq) &lt;dbl&gt; |\n",
       "|---|---|---|---|---|---|---|---|---|\n",
       "| m3 | 10 | 853.3820 | 885.4221 | -416.6910 | 833.3820 |       NA | NA |        NA |\n",
       "| m4 | 12 | 854.9236 | 893.3717 | -415.4618 | 830.9236 | 2.458411 |  2 | 0.2925249 |\n",
       "\n"
      ],
      "text/plain": [
       "   npar AIC      BIC      logLik    -2*log(L) Chisq    Df Pr(>Chisq)\n",
       "m3 10   853.3820 885.4221 -416.6910 833.3820        NA NA        NA \n",
       "m4 12   854.9236 893.3717 -415.4618 830.9236  2.458411  2 0.2925249 "
      ]
     },
     "metadata": {},
     "output_type": "display_data"
    }
   ],
   "source": [
    "anova(m3,m4)"
   ]
  },
  {
   "cell_type": "markdown",
   "metadata": {},
   "source": [
    "The ANOVA test shows that although allowing the TRB coefficient to vary improves the model fit, the difference is not statistically significant with p-value 0.07. For now, we will we working with model 3 (without random slopes).\n",
    "\n",
    "For now, we would like to know how our level-2 groups are distributed. To do this, we create a model with all the schools included. This allow us to plot the distribution of level-2 group interceps. After that, we focus only on our top 5 schools and plot them separately."
   ]
  },
  {
   "cell_type": "code",
   "execution_count": 61,
   "metadata": {},
   "outputs": [
    {
     "data": {
      "text/plain": [
       "$School\n"
      ]
     },
     "metadata": {},
     "output_type": "display_data"
    },
    {
     "data": {
      "image/png": "[encoded data removed]",
      "text/plain": [
       "plot without title"
      ]
     },
     "metadata": {
      "image/png": {
       "height": 420,
       "width": 420
      }
     },
     "output_type": "display_data"
    }
   ],
   "source": [
    "m10<- lmer(PTS ~ (1|School), data = nba)\n",
    "qqmath(ranef(m10, condVar = T))"
   ]
  },
  {
   "cell_type": "markdown",
   "metadata": {},
   "source": [
    "As we can see, our level-2 groups are likely normally distributed. Now we plot only our top 5 schools."
   ]
  },
  {
   "cell_type": "code",
   "execution_count": 62,
   "metadata": {},
   "outputs": [
    {
     "data": {
      "text/plain": [
       "$School\n"
      ]
     },
     "metadata": {},
     "output_type": "display_data"
    },
    {
     "data": {
      "image/png": "[encoded data removed]",
      "text/plain": [
       "plot without title"
      ]
     },
     "metadata": {
      "image/png": {
       "height": 420,
       "width": 420
      }
     },
     "output_type": "display_data"
    }
   ],
   "source": [
    "qqmath(ranef(mnulo, condVar = TRUE))"
   ]
  },
  {
   "cell_type": "markdown",
   "metadata": {},
   "source": [
    "The top 5 schools follow a similar distribution as the plot with all school interceps.\n",
    "Now, we plot model 3"
   ]
  },
  {
   "cell_type": "code",
   "execution_count": 63,
   "metadata": {},
   "outputs": [
    {
     "data": {
      "image/png": "[encoded data removed]",
      "text/plain": [
       "plot without title"
      ]
     },
     "metadata": {
      "image/png": {
       "height": 420,
       "width": 420
      }
     },
     "output_type": "display_data"
    }
   ],
   "source": [
    "ranefs_m3 <- ranef(m3)$School\n",
    "ranefs_m3$School <- rownames(ranefs_m3)\n",
    "colnames(ranefs_m3) <- c(\"intercept_ranef\", \"School\")\n",
    "\n",
    "fixefs_m3 <- fixef(m3)\n",
    "intercept_fixed <- fixefs_m3[\"(Intercept)\"]\n",
    "slope_fixed <- fixefs_m3[\"TRB_cgm\"]\n",
    "\n",
    "\n",
    "TRB_seq <- seq(from = min(nba_top5_schools$TRB_cgm, na.rm = TRUE),\n",
    "               to = max(nba_top5_schools$TRB_cgm, na.rm = TRUE),\n",
    "               length.out = 100)\n",
    "\n",
    "line_data_m3 <- expand.grid(\n",
    "  TRB_cgm = TRB_seq,\n",
    "  School = unique(nba_top5_schools$School)\n",
    ")\n",
    "\n",
    "line_data_m3 <- left_join(line_data_m3, ranefs_m3, by = \"School\")\n",
    "\n",
    "line_data_m3 <- line_data_m3 %>%\n",
    "  mutate(\n",
    "    intercept_total = intercept_fixed + intercept_ranef,\n",
    "    # Pendiente fija, igual para todas las escuelas\n",
    "    slope_total = slope_fixed,\n",
    "    PTS_pred = intercept_total + slope_total * TRB_cgm\n",
    "  )\n",
    "\n",
    "ggplot(nba_top5_schools, aes(x = TRB_cgm, y = PTS, color = School)) +\n",
    "  geom_point(alpha = 0.6) +\n",
    "  geom_line(data = line_data_m3, aes(x = TRB_cgm, y = PTS_pred, color = School), size = 1) +\n",
    "  facet_wrap(~ School) +\n",
    "  labs(\n",
    "    title = \"Fitted values m3 (random intercept, fixed slope)\",\n",
    "    x = \"Centering TRB (Grand Mean)\",\n",
    "    y = \"PTS\",\n",
    "    color = \"School\"\n",
    "  ) +\n",
    "  theme_bw()"
   ]
  },
  {
   "cell_type": "markdown",
   "metadata": {},
   "source": [
    "modelo 4 plot"
   ]
  },
  {
   "cell_type": "code",
   "execution_count": 64,
   "metadata": {},
   "outputs": [],
   "source": [
    "nba_top5_schools$PTS_pred <- predict(m4, re.form = NULL)\n",
    "ranefs <- ranef(m4)$School\n",
    "ranefs$School <- rownames(ranefs)\n",
    "colnames(ranefs) <- c(\"intercept_ranef\", \"TRB_cgm_ranef\", \"School\")\n",
    "\n",
    "\n",
    "fixefs <- fixef(m4)\n",
    "intercept_fixed <- fixefs[\"(Intercept)\"]\n",
    "slope_fixed <- fixefs[\"TRB_cgm\"]\n",
    "\n",
    "\n",
    "# Crear un grid de valores centrados de TRB\n",
    "TRB_seq <- seq(from = min(nba_top5_schools$TRB_cgm, na.rm = TRUE),\n",
    "               to = max(nba_top5_schools$TRB_cgm, na.rm = TRUE),\n",
    "               length.out = 100)\n",
    "\n",
    "# Expandir para cada escuela\n",
    "line_data <- expand.grid(\n",
    "  TRB_cgm = TRB_seq,\n",
    "  School = unique(nba_top5_schools$School)\n",
    ")\n",
    "\n",
    "# Juntar con efectos aleatorios\n",
    "line_data <- left_join(line_data, ranefs, by = \"School\")\n",
    "\n",
    "\n",
    "# Calcular pendiente e intercepto total por escuela\n",
    "line_data <- line_data %>%\n",
    "  mutate(\n",
    "    intercept_total = intercept_fixed + intercept_ranef,\n",
    "    slope_total = slope_fixed + TRB_cgm_ranef,\n",
    "    PTS_pred = intercept_total + slope_total * TRB_cgm\n",
    "  )\n",
    "\n"
   ]
  },
  {
   "cell_type": "code",
   "execution_count": 65,
   "metadata": {},
   "outputs": [
    {
     "data": {
      "image/png": "[encoded data removed]",
      "text/plain": [
       "plot without title"
      ]
     },
     "metadata": {
      "image/png": {
       "height": 420,
       "width": 420
      }
     },
     "output_type": "display_data"
    }
   ],
   "source": [
    "ggplot(nba_top5_schools, aes(x = TRB_cgm, y = PTS, color = School)) +\n",
    "  geom_point(alpha = 0.6) +\n",
    "  geom_line(data = line_data, aes(x = TRB_cgm, y = PTS_pred, color = School), size = 1) +\n",
    "  facet_wrap(~ School) +\n",
    "  labs(\n",
    "    title = \"Fitted values m4 (random intercept, random slope)\",\n",
    "    x = \"Centering TRB (Grand Mean)\",\n",
    "    y = \"PTS\",\n",
    "    color = \"School\"\n",
    "  ) +\n",
    "  theme_bw()"
   ]
  },
  {
   "cell_type": "markdown",
   "metadata": {},
   "source": [
    "Lastly, we obtain the intercepts and slopes of each model."
   ]
  },
  {
   "cell_type": "code",
   "execution_count": 66,
   "metadata": {},
   "outputs": [
    {
     "name": "stdout",
     "output_type": "stream",
     "text": [
      "[1] \"Interceptos y pendiente fija por escuela modelo m3:\"\n",
      "                   School intercept_ranef intercept_total slope_fixed\n",
      "['Duke']         ['Duke']               0        5.264025    1.090064\n",
      "['Kentucky'] ['Kentucky']               0        5.264025    1.090064\n",
      "['UCLA']         ['UCLA']               0        5.264025    1.090064\n",
      "['UNC']           ['UNC']               0        5.264025    1.090064\n",
      "street             street               0        5.264025    1.090064\n"
     ]
    }
   ],
   "source": [
    "# Para m3 (solo intercepto aleatorio)\n",
    "ranefs_m3 <- ranef(m3)$School %>% \n",
    "  as.data.frame() %>% \n",
    "  rename(intercept_ranef = `(Intercept)`) %>% \n",
    "  mutate(School = rownames(ranef(m3)$School)) %>% \n",
    "  select(School, intercept_ranef)\n",
    "\n",
    "fixefs_m3 <- fixef(m3)\n",
    "intercept_fixed_m3 <- fixefs_m3[\"(Intercept)\"]\n",
    "slope_fixed_m3 <- fixefs_m3[\"TRB_cgm\"]\n",
    "\n",
    "ranefs_m3 <- ranefs_m3 %>%\n",
    "  mutate(\n",
    "    intercept_total = intercept_fixed_m3 + intercept_ranef,\n",
    "    slope_fixed = slope_fixed_m3\n",
    "  )\n",
    "\n",
    "print(\"Interceptos y pendiente fija por escuela modelo m3:\")\n",
    "print(ranefs_m3)\n"
   ]
  },
  {
   "cell_type": "code",
   "execution_count": 67,
   "metadata": {},
   "outputs": [
    {
     "name": "stdout",
     "output_type": "stream",
     "text": [
      "[1] \"Interceptos y pendientes (random slopes) por escuela modelo m4:\"\n",
      "                   School intercept_ranef slope_ranef intercept_total\n",
      "['Duke']         ['Duke']               0 -0.06782905        5.093897\n",
      "['Kentucky'] ['Kentucky']               0  0.22714790        5.093897\n",
      "['UCLA']         ['UCLA']               0 -0.11051789        5.093897\n",
      "['UNC']           ['UNC']               0  0.07278935        5.093897\n",
      "street             street               0 -0.12159031        5.093897\n",
      "             slope_total\n",
      "['Duke']        1.092198\n",
      "['Kentucky']    1.387175\n",
      "['UCLA']        1.049509\n",
      "['UNC']         1.232816\n",
      "street          1.038437\n"
     ]
    }
   ],
   "source": [
    "ranefs_m4 <- ranef(m4)$School %>% \n",
    "  as.data.frame() %>% \n",
    "  rename(\n",
    "    intercept_ranef = `(Intercept)`,\n",
    "    slope_ranef = TRB_cgm\n",
    "  ) %>% \n",
    "  mutate(School = rownames(ranef(m4)$School)) %>% \n",
    "  select(School, intercept_ranef, slope_ranef)\n",
    "\n",
    "fixefs_m4 <- fixef(m4)\n",
    "intercept_fixed_m4 <- fixefs_m4[\"(Intercept)\"]\n",
    "slope_fixed_m4 <- fixefs_m4[\"TRB_cgm\"]\n",
    "\n",
    "ranefs_m4 <- ranefs_m4 %>%\n",
    "  mutate(\n",
    "    intercept_total = intercept_fixed_m4 + intercept_ranef,\n",
    "    slope_total = slope_fixed_m4 + slope_ranef\n",
    "  )\n",
    "\n",
    "print(\"Interceptos y pendientes (random slopes) por escuela modelo m4:\")\n",
    "print(ranefs_m4)"
   ]
  },
  {
   "cell_type": "code",
   "execution_count": null,
   "metadata": {},
   "outputs": [],
   "source": []
  }
 ],
 "metadata": {
  "kernelspec": {
   "display_name": "R",
   "language": "R",
   "name": "ir"
  },
  "language_info": {
   "codemirror_mode": "r",
   "file_extension": ".r",
   "mimetype": "text/x-r-source",
   "name": "R",
   "pygments_lexer": "r",
   "version": "4.5.1"
  }
 },
 "nbformat": 4,
 "nbformat_minor": 4
}
